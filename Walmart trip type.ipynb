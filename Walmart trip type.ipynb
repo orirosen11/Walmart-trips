{
 "cells": [
  {
   "cell_type": "markdown",
   "metadata": {},
   "source": [
    "# Walmart Trip Type Classification"
   ]
  },
  {
   "cell_type": "markdown",
   "metadata": {},
   "source": [
    "https://www.kaggle.com/c/walmart-recruiting-trip-type-classification"
   ]
  },
  {
   "cell_type": "code",
   "execution_count": 56,
   "metadata": {},
   "outputs": [],
   "source": [
    "import pandas as pd\n",
    "import numpy as np\n",
    "import matplotlib.pyplot as plt\n",
    "import seaborn as sns"
   ]
  },
  {
   "cell_type": "code",
   "execution_count": 57,
   "metadata": {},
   "outputs": [],
   "source": [
    "df = pd.read_csv('train.csv')"
   ]
  },
  {
   "cell_type": "code",
   "execution_count": 58,
   "metadata": {},
   "outputs": [
    {
     "data": {
      "text/html": [
       "<div>\n",
       "<style scoped>\n",
       "    .dataframe tbody tr th:only-of-type {\n",
       "        vertical-align: middle;\n",
       "    }\n",
       "\n",
       "    .dataframe tbody tr th {\n",
       "        vertical-align: top;\n",
       "    }\n",
       "\n",
       "    .dataframe thead th {\n",
       "        text-align: right;\n",
       "    }\n",
       "</style>\n",
       "<table border=\"1\" class=\"dataframe\">\n",
       "  <thead>\n",
       "    <tr style=\"text-align: right;\">\n",
       "      <th></th>\n",
       "      <th>TripType</th>\n",
       "      <th>VisitNumber</th>\n",
       "      <th>Weekday</th>\n",
       "      <th>Upc</th>\n",
       "      <th>ScanCount</th>\n",
       "      <th>DepartmentDescription</th>\n",
       "      <th>FinelineNumber</th>\n",
       "    </tr>\n",
       "  </thead>\n",
       "  <tbody>\n",
       "    <tr>\n",
       "      <th>0</th>\n",
       "      <td>999</td>\n",
       "      <td>5</td>\n",
       "      <td>Friday</td>\n",
       "      <td>6.811315e+10</td>\n",
       "      <td>-1</td>\n",
       "      <td>FINANCIAL SERVICES</td>\n",
       "      <td>1000.0</td>\n",
       "    </tr>\n",
       "    <tr>\n",
       "      <th>1</th>\n",
       "      <td>30</td>\n",
       "      <td>7</td>\n",
       "      <td>Friday</td>\n",
       "      <td>6.053882e+10</td>\n",
       "      <td>1</td>\n",
       "      <td>SHOES</td>\n",
       "      <td>8931.0</td>\n",
       "    </tr>\n",
       "  </tbody>\n",
       "</table>\n",
       "</div>"
      ],
      "text/plain": [
       "   TripType  VisitNumber Weekday           Upc  ScanCount  \\\n",
       "0       999            5  Friday  6.811315e+10         -1   \n",
       "1        30            7  Friday  6.053882e+10          1   \n",
       "\n",
       "  DepartmentDescription  FinelineNumber  \n",
       "0    FINANCIAL SERVICES          1000.0  \n",
       "1                 SHOES          8931.0  "
      ]
     },
     "execution_count": 58,
     "metadata": {},
     "output_type": "execute_result"
    }
   ],
   "source": [
    "df.head(2)"
   ]
  },
  {
   "cell_type": "markdown",
   "metadata": {},
   "source": [
    "VisitNumber - an id corresponding to a single trip by a single customer"
   ]
  },
  {
   "cell_type": "markdown",
   "metadata": {},
   "source": [
    "Weekday - the weekday of the trip"
   ]
  },
  {
   "cell_type": "markdown",
   "metadata": {},
   "source": [
    "Upc - the UPC number of the product purchased"
   ]
  },
  {
   "cell_type": "markdown",
   "metadata": {},
   "source": [
    "ScanCount - the number of the given item that was purchased. A negative value indicates a product return."
   ]
  },
  {
   "cell_type": "markdown",
   "metadata": {},
   "source": [
    "DepartmentDescription - a high-level description of the item's department"
   ]
  },
  {
   "cell_type": "markdown",
   "metadata": {},
   "source": [
    "FinelineNumber - a more refined category for each of the products, created by Walmart"
   ]
  },
  {
   "cell_type": "markdown",
   "metadata": {},
   "source": [
    "# Data cleaning and first look"
   ]
  },
  {
   "cell_type": "code",
   "execution_count": 59,
   "metadata": {},
   "outputs": [
    {
     "data": {
      "text/html": [
       "<div>\n",
       "<style scoped>\n",
       "    .dataframe tbody tr th:only-of-type {\n",
       "        vertical-align: middle;\n",
       "    }\n",
       "\n",
       "    .dataframe tbody tr th {\n",
       "        vertical-align: top;\n",
       "    }\n",
       "\n",
       "    .dataframe thead th {\n",
       "        text-align: right;\n",
       "    }\n",
       "</style>\n",
       "<table border=\"1\" class=\"dataframe\">\n",
       "  <thead>\n",
       "    <tr style=\"text-align: right;\">\n",
       "      <th></th>\n",
       "      <th>TripType</th>\n",
       "      <th>VisitNumber</th>\n",
       "      <th>Upc</th>\n",
       "      <th>ScanCount</th>\n",
       "      <th>FinelineNumber</th>\n",
       "    </tr>\n",
       "  </thead>\n",
       "  <tbody>\n",
       "    <tr>\n",
       "      <th>count</th>\n",
       "      <td>647054.000000</td>\n",
       "      <td>647054.000000</td>\n",
       "      <td>6.429250e+05</td>\n",
       "      <td>647054.000000</td>\n",
       "      <td>642925.000000</td>\n",
       "    </tr>\n",
       "    <tr>\n",
       "      <th>mean</th>\n",
       "      <td>58.584511</td>\n",
       "      <td>96167.640078</td>\n",
       "      <td>3.060698e+10</td>\n",
       "      <td>1.108878</td>\n",
       "      <td>3726.884567</td>\n",
       "    </tr>\n",
       "    <tr>\n",
       "      <th>std</th>\n",
       "      <td>157.635533</td>\n",
       "      <td>55545.485154</td>\n",
       "      <td>9.120134e+10</td>\n",
       "      <td>0.700776</td>\n",
       "      <td>2780.966158</td>\n",
       "    </tr>\n",
       "    <tr>\n",
       "      <th>min</th>\n",
       "      <td>3.000000</td>\n",
       "      <td>5.000000</td>\n",
       "      <td>8.340000e+02</td>\n",
       "      <td>-12.000000</td>\n",
       "      <td>0.000000</td>\n",
       "    </tr>\n",
       "    <tr>\n",
       "      <th>25%</th>\n",
       "      <td>27.000000</td>\n",
       "      <td>49268.000000</td>\n",
       "      <td>3.400001e+09</td>\n",
       "      <td>1.000000</td>\n",
       "      <td>1404.000000</td>\n",
       "    </tr>\n",
       "    <tr>\n",
       "      <th>50%</th>\n",
       "      <td>39.000000</td>\n",
       "      <td>97074.000000</td>\n",
       "      <td>7.050103e+09</td>\n",
       "      <td>1.000000</td>\n",
       "      <td>3352.000000</td>\n",
       "    </tr>\n",
       "    <tr>\n",
       "      <th>75%</th>\n",
       "      <td>40.000000</td>\n",
       "      <td>144316.000000</td>\n",
       "      <td>3.006531e+10</td>\n",
       "      <td>1.000000</td>\n",
       "      <td>5501.000000</td>\n",
       "    </tr>\n",
       "    <tr>\n",
       "      <th>max</th>\n",
       "      <td>999.000000</td>\n",
       "      <td>191347.000000</td>\n",
       "      <td>9.789707e+11</td>\n",
       "      <td>71.000000</td>\n",
       "      <td>9998.000000</td>\n",
       "    </tr>\n",
       "  </tbody>\n",
       "</table>\n",
       "</div>"
      ],
      "text/plain": [
       "            TripType    VisitNumber           Upc      ScanCount  \\\n",
       "count  647054.000000  647054.000000  6.429250e+05  647054.000000   \n",
       "mean       58.584511   96167.640078  3.060698e+10       1.108878   \n",
       "std       157.635533   55545.485154  9.120134e+10       0.700776   \n",
       "min         3.000000       5.000000  8.340000e+02     -12.000000   \n",
       "25%        27.000000   49268.000000  3.400001e+09       1.000000   \n",
       "50%        39.000000   97074.000000  7.050103e+09       1.000000   \n",
       "75%        40.000000  144316.000000  3.006531e+10       1.000000   \n",
       "max       999.000000  191347.000000  9.789707e+11      71.000000   \n",
       "\n",
       "       FinelineNumber  \n",
       "count   642925.000000  \n",
       "mean      3726.884567  \n",
       "std       2780.966158  \n",
       "min          0.000000  \n",
       "25%       1404.000000  \n",
       "50%       3352.000000  \n",
       "75%       5501.000000  \n",
       "max       9998.000000  "
      ]
     },
     "execution_count": 59,
     "metadata": {},
     "output_type": "execute_result"
    }
   ],
   "source": [
    "df.describe()"
   ]
  },
  {
   "cell_type": "code",
   "execution_count": 60,
   "metadata": {},
   "outputs": [
    {
     "data": {
      "text/plain": [
       "TripType                   int64\n",
       "VisitNumber                int64\n",
       "Weekday                   object\n",
       "Upc                      float64\n",
       "ScanCount                  int64\n",
       "DepartmentDescription     object\n",
       "FinelineNumber           float64\n",
       "dtype: object"
      ]
     },
     "execution_count": 60,
     "metadata": {},
     "output_type": "execute_result"
    }
   ],
   "source": [
    "df.dtypes"
   ]
  },
  {
   "cell_type": "markdown",
   "metadata": {},
   "source": [
    "Since TripType has no numeric value i'll change them to string"
   ]
  },
  {
   "cell_type": "code",
   "execution_count": 61,
   "metadata": {},
   "outputs": [],
   "source": [
    "df['TripType'] = df.TripType.astype(str)"
   ]
  },
  {
   "cell_type": "code",
   "execution_count": 62,
   "metadata": {},
   "outputs": [
    {
     "data": {
      "text/plain": [
       "TripType                  object\n",
       "VisitNumber                int64\n",
       "Weekday                   object\n",
       "Upc                      float64\n",
       "ScanCount                  int64\n",
       "DepartmentDescription     object\n",
       "FinelineNumber           float64\n",
       "dtype: object"
      ]
     },
     "execution_count": 62,
     "metadata": {},
     "output_type": "execute_result"
    }
   ],
   "source": [
    "df.dtypes"
   ]
  },
  {
   "cell_type": "code",
   "execution_count": 63,
   "metadata": {},
   "outputs": [
    {
     "data": {
      "text/plain": [
       "TripType                    38\n",
       "VisitNumber              95674\n",
       "Weekday                      7\n",
       "Upc                      97714\n",
       "ScanCount                   39\n",
       "DepartmentDescription       68\n",
       "FinelineNumber            5195\n",
       "dtype: int64"
      ]
     },
     "execution_count": 63,
     "metadata": {},
     "output_type": "execute_result"
    }
   ],
   "source": [
    "df.nunique()"
   ]
  },
  {
   "cell_type": "markdown",
   "metadata": {},
   "source": [
    "37 trip types and 1 'other' no missing values."
   ]
  },
  {
   "cell_type": "code",
   "execution_count": 64,
   "metadata": {},
   "outputs": [
    {
     "data": {
      "text/plain": [
       "TripType                    0\n",
       "VisitNumber                 0\n",
       "Weekday                     0\n",
       "Upc                      4129\n",
       "ScanCount                   0\n",
       "DepartmentDescription    1361\n",
       "FinelineNumber           4129\n",
       "dtype: int64"
      ]
     },
     "execution_count": 64,
     "metadata": {},
     "output_type": "execute_result"
    }
   ],
   "source": [
    "df.isna().sum()"
   ]
  },
  {
   "cell_type": "markdown",
   "metadata": {},
   "source": [
    "There are nulls only in Upc , Department , and Fineline all are possible for nulls so i'll use 0 instead"
   ]
  },
  {
   "cell_type": "code",
   "execution_count": 65,
   "metadata": {},
   "outputs": [],
   "source": [
    "df.fillna(value='0',inplace=True)"
   ]
  },
  {
   "cell_type": "code",
   "execution_count": 66,
   "metadata": {},
   "outputs": [
    {
     "data": {
      "text/plain": [
       "TripType                 0\n",
       "VisitNumber              0\n",
       "Weekday                  0\n",
       "Upc                      0\n",
       "ScanCount                0\n",
       "DepartmentDescription    0\n",
       "FinelineNumber           0\n",
       "dtype: int64"
      ]
     },
     "execution_count": 66,
     "metadata": {},
     "output_type": "execute_result"
    }
   ],
   "source": [
    "df.isna().sum()"
   ]
  },
  {
   "cell_type": "code",
   "execution_count": 67,
   "metadata": {},
   "outputs": [
    {
     "data": {
      "text/plain": [
       "array(['FINANCIAL SERVICES', 'SHOES', 'PERSONAL CARE',\n",
       "       'PAINT AND ACCESSORIES', 'DSD GROCERY', 'MEAT - FRESH & FROZEN',\n",
       "       'DAIRY', 'PETS AND SUPPLIES', 'HOUSEHOLD CHEMICALS/SUPP', '0',\n",
       "       'IMPULSE MERCHANDISE', 'PRODUCE', 'CANDY, TOBACCO, COOKIES',\n",
       "       'GROCERY DRY GOODS', 'BOYS WEAR', 'FABRICS AND CRAFTS',\n",
       "       'JEWELRY AND SUNGLASSES', 'MENS WEAR', 'ACCESSORIES',\n",
       "       'HOME MANAGEMENT', 'FROZEN FOODS', 'SERVICE DELI',\n",
       "       'INFANT CONSUMABLE HARDLINES', 'PRE PACKED DELI', 'COOK AND DINE',\n",
       "       'PHARMACY OTC', 'LADIESWEAR', 'COMM BREAD', 'BAKERY',\n",
       "       'HOUSEHOLD PAPER GOODS', 'CELEBRATION', 'HARDWARE', 'BEAUTY',\n",
       "       'AUTOMOTIVE', 'BOOKS AND MAGAZINES', 'SEAFOOD', 'OFFICE SUPPLIES',\n",
       "       'LAWN AND GARDEN', 'SHEER HOSIERY', 'WIRELESS', 'BEDDING',\n",
       "       'BATH AND SHOWER', 'HORTICULTURE AND ACCESS', 'HOME DECOR', 'TOYS',\n",
       "       'INFANT APPAREL', 'LADIES SOCKS', 'PLUS AND MATERNITY',\n",
       "       'ELECTRONICS', 'GIRLS WEAR, 4-6X  AND 7-14', 'BRAS & SHAPEWEAR',\n",
       "       'LIQUOR,WINE,BEER', 'SLEEPWEAR/FOUNDATIONS',\n",
       "       'CAMERAS AND SUPPLIES', 'SPORTING GOODS',\n",
       "       'PLAYERS AND ELECTRONICS', 'PHARMACY RX', 'MENSWEAR',\n",
       "       'OPTICAL - FRAMES', 'SWIMWEAR/OUTERWEAR', 'OTHER DEPARTMENTS',\n",
       "       'MEDIA AND GAMING', 'FURNITURE', 'OPTICAL - LENSES', 'SEASONAL',\n",
       "       'LARGE HOUSEHOLD GOODS', '1-HR PHOTO', 'CONCEPT STORES',\n",
       "       'HEALTH AND BEAUTY AIDS'], dtype=object)"
      ]
     },
     "execution_count": 67,
     "metadata": {},
     "output_type": "execute_result"
    }
   ],
   "source": [
    "df.DepartmentDescription.unique()"
   ]
  },
  {
   "cell_type": "markdown",
   "metadata": {},
   "source": [
    "There is an 'Other Departments' category, i don't want to insert another 'other' so i'll leave it for now "
   ]
  },
  {
   "cell_type": "markdown",
   "metadata": {},
   "source": [
    "# EDA"
   ]
  },
  {
   "cell_type": "code",
   "execution_count": 68,
   "metadata": {},
   "outputs": [
    {
     "data": {
      "text/plain": [
       "<Container object of 38 artists>"
      ]
     },
     "execution_count": 68,
     "metadata": {},
     "output_type": "execute_result"
    },
    {
     "data": {
      "image/png": "[encoded data removed]",
      "text/plain": [
       "<matplotlib.figure.Figure at 0x15056b2fe48>"
      ]
     },
     "metadata": {},
     "output_type": "display_data"
    }
   ],
   "source": [
    "trip_group_count = df[['TripType','VisitNumber']].groupby(['TripType']).count()\n",
    "plt.subplots(figsize=(17,3))\n",
    "plt.bar(trip_group_count.index , trip_group_count.VisitNumber)"
   ]
  },
  {
   "cell_type": "markdown",
   "metadata": {},
   "source": [
    "Trip types 40 39 37 38 25 are the most common ones, 7 8 9 999 after that."
   ]
  },
  {
   "cell_type": "code",
   "execution_count": 69,
   "metadata": {},
   "outputs": [
    {
     "data": {
      "text/plain": [
       "<Container object of 38 artists>"
      ]
     },
     "execution_count": 69,
     "metadata": {},
     "output_type": "execute_result"
    },
    {
     "data": {
      "image/png": "[encoded data removed]",
      "text/plain": [
       "<matplotlib.figure.Figure at 0x150649a7240>"
      ]
     },
     "metadata": {},
     "output_type": "display_data"
    }
   ],
   "source": [
    "trip_group_scan_sum = df[['TripType','VisitNumber','ScanCount']].groupby(['TripType']).sum()\n",
    "plt.subplots(figsize=(17,3))\n",
    "plt.bar(trip_group_scan_sum.index , trip_group_scan_sum.ScanCount)"
   ]
  },
  {
   "cell_type": "code",
   "execution_count": 70,
   "metadata": {},
   "outputs": [
    {
     "data": {
      "text/plain": [
       "VisitNumber    1693615000\n",
       "ScanCount           -1776\n",
       "Name: 999, dtype: int64"
      ]
     },
     "execution_count": 70,
     "metadata": {},
     "output_type": "execute_result"
    }
   ],
   "source": [
    "trip_group_scan_sum.loc['999']"
   ]
  },
  {
   "cell_type": "markdown",
   "metadata": {},
   "source": [
    "No difference when looking at sum of items purchased , only category 999 reduced which is more related to returns"
   ]
  },
  {
   "cell_type": "code",
   "execution_count": 71,
   "metadata": {},
   "outputs": [
    {
     "data": {
      "text/plain": [
       "0.023889814451344093"
      ]
     },
     "execution_count": 71,
     "metadata": {},
     "output_type": "execute_result"
    }
   ],
   "source": [
    "(df.ScanCount < 0).sum()/647054"
   ]
  },
  {
   "cell_type": "markdown",
   "metadata": {},
   "source": [
    "2% of total scan are return , sounds reasonable."
   ]
  },
  {
   "cell_type": "markdown",
   "metadata": {},
   "source": [
    "I'd like to continue and look at the departments for each trip"
   ]
  },
  {
   "cell_type": "code",
   "execution_count": 72,
   "metadata": {},
   "outputs": [],
   "source": [
    "grouped_department = pd.DataFrame(df[['TripType','DepartmentDescription','ScanCount']]\n",
    "                                  .groupby(['TripType','DepartmentDescription']).sum())"
   ]
  },
  {
   "cell_type": "code",
   "execution_count": 73,
   "metadata": {},
   "outputs": [],
   "source": [
    "table = pd.pivot_table(grouped_department, index=['DepartmentDescription'], columns='TripType'\n",
    "                       , aggfunc=np.sum , fill_value=0)"
   ]
  },
  {
   "cell_type": "code",
   "execution_count": 74,
   "metadata": {},
   "outputs": [
    {
     "data": {
      "text/plain": [
       "<matplotlib.axes._subplots.AxesSubplot at 0x1505502ea90>"
      ]
     },
     "execution_count": 74,
     "metadata": {},
     "output_type": "execute_result"
    },
    {
     "data": {
      "image/png": "[encoded data removed]",
      "text/plain": [
       "<matplotlib.figure.Figure at 0x150550356a0>"
      ]
     },
     "metadata": {},
     "output_type": "display_data"
    }
   ],
   "source": [
    "plt.subplots(figsize=(15,15))\n",
    "sns.heatmap(pd.DataFrame(table))"
   ]
  },
  {
   "cell_type": "markdown",
   "metadata": {},
   "source": [
    "Trip type # 40 is highly affecting the map because it has the most amount of purchases. \n",
    "We can see that trip 40 is probably the 'Normal' shopping as it mostly includes day to day items from departments 'Grocery dry goods' 'Dairy' & 'Grocery'.\n",
    "Trip 39 has also a very similar behaviour,\n",
    "And trip 37 is highly correlated with 'Produce'\n",
    "I'll look in the data without these 3."
   ]
  },
  {
   "cell_type": "code",
   "execution_count": 75,
   "metadata": {},
   "outputs": [],
   "source": [
    "m = (~df.TripType.isin(['40','39','37']))"
   ]
  },
  {
   "cell_type": "code",
   "execution_count": 76,
   "metadata": {},
   "outputs": [],
   "source": [
    "Filtered_data = df[m]"
   ]
  },
  {
   "cell_type": "code",
   "execution_count": 77,
   "metadata": {},
   "outputs": [],
   "source": [
    "grouped_department2 = pd.DataFrame(Filtered_data[['TripType','DepartmentDescription','ScanCount']]\n",
    "                                  .groupby(['TripType','DepartmentDescription']).sum())"
   ]
  },
  {
   "cell_type": "code",
   "execution_count": 78,
   "metadata": {},
   "outputs": [
    {
     "data": {
      "text/plain": [
       "<matplotlib.axes._subplots.AxesSubplot at 0x150550b4d68>"
      ]
     },
     "execution_count": 78,
     "metadata": {},
     "output_type": "execute_result"
    },
    {
     "data": {
      "image/png": "[encoded data removed]",
      "text/plain": [
       "<matplotlib.figure.Figure at 0x1505bb14550>"
      ]
     },
     "metadata": {},
     "output_type": "display_data"
    }
   ],
   "source": [
    "table2 = pd.pivot_table(grouped_department2, index=['DepartmentDescription'], columns='TripType', aggfunc=np.sum \n",
    "                        , fill_value=0)\n",
    "plt.subplots(figsize=(15,15))\n",
    "sns.heatmap(pd.DataFrame(table2))"
   ]
  },
  {
   "cell_type": "markdown",
   "metadata": {},
   "source": [
    "Trip 36 is 'Personal beauty' and 'Health care', 5 - 'Pharmacy' ,  25 - cloths, 3 - 'Financial services', 18 - 'Toys', 34 - 'Pets and supplies' , 28 'Sporting goods'"
   ]
  },
  {
   "cell_type": "markdown",
   "metadata": {},
   "source": [
    "Now to prepare the data for clustering before starting to predict, TripType is unique for each customer and in its current status the data does not show it."
   ]
  },
  {
   "cell_type": "code",
   "execution_count": 79,
   "metadata": {},
   "outputs": [
    {
     "data": {
      "text/plain": [
       "TripType                    38\n",
       "VisitNumber              95674\n",
       "Weekday                      7\n",
       "Upc                      97715\n",
       "ScanCount                   39\n",
       "DepartmentDescription       69\n",
       "FinelineNumber            5196\n",
       "dtype: int64"
      ]
     },
     "execution_count": 79,
     "metadata": {},
     "output_type": "execute_result"
    }
   ],
   "source": [
    "df.nunique()"
   ]
  },
  {
   "cell_type": "markdown",
   "metadata": {},
   "source": [
    "# Preparing the data fo modeling"
   ]
  },
  {
   "cell_type": "markdown",
   "metadata": {},
   "source": [
    "UPC has 97k unique values and will not fit in the model as it requires 97k dummies and due to its high unique count probably has very low prediction power."
   ]
  },
  {
   "cell_type": "markdown",
   "metadata": {},
   "source": [
    "Due to the above i want to create grouped data by visit, day, and department to predict the trip type , i'll first use clustering. "
   ]
  },
  {
   "cell_type": "code",
   "execution_count": 80,
   "metadata": {},
   "outputs": [],
   "source": [
    "df['TripType'] = df.TripType.astype(int)"
   ]
  },
  {
   "cell_type": "code",
   "execution_count": 81,
   "metadata": {},
   "outputs": [],
   "source": [
    "df_filtered = df.drop(['FinelineNumber','Upc'],axis=1)"
   ]
  },
  {
   "cell_type": "code",
   "execution_count": 82,
   "metadata": {},
   "outputs": [
    {
     "data": {
      "text/plain": [
       "Index(['TripType', 'VisitNumber', 'Weekday', 'ScanCount',\n",
       "       'DepartmentDescription'],\n",
       "      dtype='object')"
      ]
     },
     "execution_count": 82,
     "metadata": {},
     "output_type": "execute_result"
    }
   ],
   "source": [
    "df_filtered.columns"
   ]
  },
  {
   "cell_type": "code",
   "execution_count": 83,
   "metadata": {},
   "outputs": [
    {
     "data": {
      "text/plain": [
       "TripType                  int32\n",
       "VisitNumber               int64\n",
       "Weekday                  object\n",
       "ScanCount                 int64\n",
       "DepartmentDescription    object\n",
       "dtype: object"
      ]
     },
     "execution_count": 83,
     "metadata": {},
     "output_type": "execute_result"
    }
   ],
   "source": [
    "df_filtered.dtypes"
   ]
  },
  {
   "cell_type": "code",
   "execution_count": 129,
   "metadata": {},
   "outputs": [],
   "source": [
    "df_filtered_grouped = pd.DataFrame(df[['VisitNumber', 'TripType', 'Weekday', 'ScanCount','DepartmentDescription']]\n",
    "                                  .groupby(['VisitNumber', 'TripType', 'Weekday','DepartmentDescription']).sum())"
   ]
  },
  {
   "cell_type": "code",
   "execution_count": 130,
   "metadata": {},
   "outputs": [
    {
     "data": {
      "text/html": [
       "<div>\n",
       "<style scoped>\n",
       "    .dataframe tbody tr th:only-of-type {\n",
       "        vertical-align: middle;\n",
       "    }\n",
       "\n",
       "    .dataframe tbody tr th {\n",
       "        vertical-align: top;\n",
       "    }\n",
       "\n",
       "    .dataframe thead th {\n",
       "        text-align: right;\n",
       "    }\n",
       "</style>\n",
       "<table border=\"1\" class=\"dataframe\">\n",
       "  <thead>\n",
       "    <tr style=\"text-align: right;\">\n",
       "      <th></th>\n",
       "      <th></th>\n",
       "      <th></th>\n",
       "      <th></th>\n",
       "      <th>ScanCount</th>\n",
       "    </tr>\n",
       "    <tr>\n",
       "      <th>VisitNumber</th>\n",
       "      <th>TripType</th>\n",
       "      <th>Weekday</th>\n",
       "      <th>DepartmentDescription</th>\n",
       "      <th></th>\n",
       "    </tr>\n",
       "  </thead>\n",
       "  <tbody>\n",
       "    <tr>\n",
       "      <th>5</th>\n",
       "      <th>999</th>\n",
       "      <th>Friday</th>\n",
       "      <th>FINANCIAL SERVICES</th>\n",
       "      <td>-1</td>\n",
       "    </tr>\n",
       "    <tr>\n",
       "      <th>7</th>\n",
       "      <th>30</th>\n",
       "      <th>Friday</th>\n",
       "      <th>PERSONAL CARE</th>\n",
       "      <td>1</td>\n",
       "    </tr>\n",
       "  </tbody>\n",
       "</table>\n",
       "</div>"
      ],
      "text/plain": [
       "                                                    ScanCount\n",
       "VisitNumber TripType Weekday DepartmentDescription           \n",
       "5           999      Friday  FINANCIAL SERVICES            -1\n",
       "7           30       Friday  PERSONAL CARE                  1"
      ]
     },
     "execution_count": 130,
     "metadata": {},
     "output_type": "execute_result"
    }
   ],
   "source": [
    "df_filtered_grouped.head(2)"
   ]
  },
  {
   "cell_type": "code",
   "execution_count": 91,
   "metadata": {},
   "outputs": [
    {
     "data": {
      "text/plain": [
       "TripType                  int32\n",
       "VisitNumber               int64\n",
       "Weekday                  object\n",
       "ScanCount                 int64\n",
       "DepartmentDescription    object\n",
       "dtype: object"
      ]
     },
     "execution_count": 91,
     "metadata": {},
     "output_type": "execute_result"
    }
   ],
   "source": [
    "df_filtered.dtypes"
   ]
  },
  {
   "cell_type": "code",
   "execution_count": 257,
   "metadata": {},
   "outputs": [],
   "source": [
    "km_table = pd.pivot_table(df_filtered_grouped, index=[df_filtered_grouped.index.get_level_values(0), \n",
    "                                 df_filtered_grouped.index.get_level_values(2),\n",
    "                                 df_filtered_grouped.index.get_level_values(1)], \n",
    "                          columns=[df_filtered_grouped.index.get_level_values(3)]\n",
    "                          ,aggfunc=np.sum , fill_value=0)"
   ]
  },
  {
   "cell_type": "code",
   "execution_count": 258,
   "metadata": {},
   "outputs": [],
   "source": [
    "# Also an option for the above, a bit easier as well\n",
    "# df_filtered_grouped2 = pd.DataFrame(df[['VisitNumber', 'TripType', 'Weekday', 'ScanCount','DepartmentDescription']]\n",
    "#                                   .groupby(['VisitNumber', 'TripType', 'Weekday','DepartmentDescription'])\n",
    "#                                    .sum().unstack(fill_value=0))"
   ]
  },
  {
   "cell_type": "code",
   "execution_count": 259,
   "metadata": {},
   "outputs": [],
   "source": [
    "# Reseting from multi index to one index col\n",
    "km_table.reset_index(level=[1], inplace=True)"
   ]
  },
  {
   "cell_type": "code",
   "execution_count": 260,
   "metadata": {},
   "outputs": [
    {
     "data": {
      "text/html": [
       "<div>\n",
       "<style scoped>\n",
       "    .dataframe tbody tr th:only-of-type {\n",
       "        vertical-align: middle;\n",
       "    }\n",
       "\n",
       "    .dataframe tbody tr th {\n",
       "        vertical-align: top;\n",
       "    }\n",
       "\n",
       "    .dataframe thead tr th {\n",
       "        text-align: left;\n",
       "    }\n",
       "\n",
       "    .dataframe thead tr:last-of-type th {\n",
       "        text-align: right;\n",
       "    }\n",
       "</style>\n",
       "<table border=\"1\" class=\"dataframe\">\n",
       "  <thead>\n",
       "    <tr>\n",
       "      <th></th>\n",
       "      <th></th>\n",
       "      <th>Weekday</th>\n",
       "      <th colspan=\"20\" halign=\"left\">ScanCount</th>\n",
       "    </tr>\n",
       "    <tr>\n",
       "      <th></th>\n",
       "      <th>DepartmentDescription</th>\n",
       "      <th></th>\n",
       "      <th>0</th>\n",
       "      <th>1-HR PHOTO</th>\n",
       "      <th>ACCESSORIES</th>\n",
       "      <th>AUTOMOTIVE</th>\n",
       "      <th>BAKERY</th>\n",
       "      <th>BATH AND SHOWER</th>\n",
       "      <th>BEAUTY</th>\n",
       "      <th>BEDDING</th>\n",
       "      <th>BOOKS AND MAGAZINES</th>\n",
       "      <th>...</th>\n",
       "      <th>SEAFOOD</th>\n",
       "      <th>SEASONAL</th>\n",
       "      <th>SERVICE DELI</th>\n",
       "      <th>SHEER HOSIERY</th>\n",
       "      <th>SHOES</th>\n",
       "      <th>SLEEPWEAR/FOUNDATIONS</th>\n",
       "      <th>SPORTING GOODS</th>\n",
       "      <th>SWIMWEAR/OUTERWEAR</th>\n",
       "      <th>TOYS</th>\n",
       "      <th>WIRELESS</th>\n",
       "    </tr>\n",
       "    <tr>\n",
       "      <th>VisitNumber</th>\n",
       "      <th>TripType</th>\n",
       "      <th></th>\n",
       "      <th></th>\n",
       "      <th></th>\n",
       "      <th></th>\n",
       "      <th></th>\n",
       "      <th></th>\n",
       "      <th></th>\n",
       "      <th></th>\n",
       "      <th></th>\n",
       "      <th></th>\n",
       "      <th></th>\n",
       "      <th></th>\n",
       "      <th></th>\n",
       "      <th></th>\n",
       "      <th></th>\n",
       "      <th></th>\n",
       "      <th></th>\n",
       "      <th></th>\n",
       "      <th></th>\n",
       "      <th></th>\n",
       "      <th></th>\n",
       "    </tr>\n",
       "  </thead>\n",
       "  <tbody>\n",
       "    <tr>\n",
       "      <th>5</th>\n",
       "      <th>999</th>\n",
       "      <td>Friday</td>\n",
       "      <td>0</td>\n",
       "      <td>0</td>\n",
       "      <td>0</td>\n",
       "      <td>0</td>\n",
       "      <td>0</td>\n",
       "      <td>0</td>\n",
       "      <td>0</td>\n",
       "      <td>0</td>\n",
       "      <td>0</td>\n",
       "      <td>...</td>\n",
       "      <td>0</td>\n",
       "      <td>0</td>\n",
       "      <td>0</td>\n",
       "      <td>0</td>\n",
       "      <td>0</td>\n",
       "      <td>0</td>\n",
       "      <td>0</td>\n",
       "      <td>0</td>\n",
       "      <td>0</td>\n",
       "      <td>0</td>\n",
       "    </tr>\n",
       "    <tr>\n",
       "      <th>7</th>\n",
       "      <th>30</th>\n",
       "      <td>Friday</td>\n",
       "      <td>0</td>\n",
       "      <td>0</td>\n",
       "      <td>0</td>\n",
       "      <td>0</td>\n",
       "      <td>0</td>\n",
       "      <td>0</td>\n",
       "      <td>0</td>\n",
       "      <td>0</td>\n",
       "      <td>0</td>\n",
       "      <td>...</td>\n",
       "      <td>0</td>\n",
       "      <td>0</td>\n",
       "      <td>0</td>\n",
       "      <td>0</td>\n",
       "      <td>1</td>\n",
       "      <td>0</td>\n",
       "      <td>0</td>\n",
       "      <td>0</td>\n",
       "      <td>0</td>\n",
       "      <td>0</td>\n",
       "    </tr>\n",
       "  </tbody>\n",
       "</table>\n",
       "<p>2 rows × 70 columns</p>\n",
       "</div>"
      ],
      "text/plain": [
       "                      Weekday ScanCount                                    \\\n",
       "DepartmentDescription                 0 1-HR PHOTO ACCESSORIES AUTOMOTIVE   \n",
       "VisitNumber TripType                                                        \n",
       "5           999        Friday         0          0           0          0   \n",
       "7           30         Friday         0          0           0          0   \n",
       "\n",
       "                                                             \\\n",
       "DepartmentDescription BAKERY BATH AND SHOWER BEAUTY BEDDING   \n",
       "VisitNumber TripType                                          \n",
       "5           999            0               0      0       0   \n",
       "7           30             0               0      0       0   \n",
       "\n",
       "                                            ...                      \\\n",
       "DepartmentDescription BOOKS AND MAGAZINES   ...    SEAFOOD SEASONAL   \n",
       "VisitNumber TripType                        ...                       \n",
       "5           999                         0   ...          0        0   \n",
       "7           30                          0   ...          0        0   \n",
       "\n",
       "                                                                              \\\n",
       "DepartmentDescription SERVICE DELI SHEER HOSIERY SHOES SLEEPWEAR/FOUNDATIONS   \n",
       "VisitNumber TripType                                                           \n",
       "5           999                  0             0     0                     0   \n",
       "7           30                   0             0     1                     0   \n",
       "\n",
       "                                                                       \n",
       "DepartmentDescription SPORTING GOODS SWIMWEAR/OUTERWEAR TOYS WIRELESS  \n",
       "VisitNumber TripType                                                   \n",
       "5           999                    0                  0    0        0  \n",
       "7           30                     0                  0    0        0  \n",
       "\n",
       "[2 rows x 70 columns]"
      ]
     },
     "execution_count": 260,
     "metadata": {},
     "output_type": "execute_result"
    }
   ],
   "source": [
    "km_table.head(2)"
   ]
  },
  {
   "cell_type": "code",
   "execution_count": 261,
   "metadata": {},
   "outputs": [],
   "source": [
    "# Flattening the multi index\n",
    "km_table.columns = km_table.columns.to_series().str.join('_')"
   ]
  },
  {
   "cell_type": "code",
   "execution_count": 262,
   "metadata": {},
   "outputs": [
    {
     "data": {
      "text/html": [
       "<div>\n",
       "<style scoped>\n",
       "    .dataframe tbody tr th:only-of-type {\n",
       "        vertical-align: middle;\n",
       "    }\n",
       "\n",
       "    .dataframe tbody tr th {\n",
       "        vertical-align: top;\n",
       "    }\n",
       "\n",
       "    .dataframe thead th {\n",
       "        text-align: right;\n",
       "    }\n",
       "</style>\n",
       "<table border=\"1\" class=\"dataframe\">\n",
       "  <thead>\n",
       "    <tr style=\"text-align: right;\">\n",
       "      <th></th>\n",
       "      <th></th>\n",
       "      <th>Weekday_</th>\n",
       "      <th>ScanCount_0</th>\n",
       "      <th>ScanCount_1-HR PHOTO</th>\n",
       "      <th>ScanCount_ACCESSORIES</th>\n",
       "      <th>ScanCount_AUTOMOTIVE</th>\n",
       "      <th>ScanCount_BAKERY</th>\n",
       "      <th>ScanCount_BATH AND SHOWER</th>\n",
       "      <th>ScanCount_BEAUTY</th>\n",
       "      <th>ScanCount_BEDDING</th>\n",
       "      <th>ScanCount_BOOKS AND MAGAZINES</th>\n",
       "      <th>...</th>\n",
       "      <th>ScanCount_SEAFOOD</th>\n",
       "      <th>ScanCount_SEASONAL</th>\n",
       "      <th>ScanCount_SERVICE DELI</th>\n",
       "      <th>ScanCount_SHEER HOSIERY</th>\n",
       "      <th>ScanCount_SHOES</th>\n",
       "      <th>ScanCount_SLEEPWEAR/FOUNDATIONS</th>\n",
       "      <th>ScanCount_SPORTING GOODS</th>\n",
       "      <th>ScanCount_SWIMWEAR/OUTERWEAR</th>\n",
       "      <th>ScanCount_TOYS</th>\n",
       "      <th>ScanCount_WIRELESS</th>\n",
       "    </tr>\n",
       "    <tr>\n",
       "      <th>VisitNumber</th>\n",
       "      <th>TripType</th>\n",
       "      <th></th>\n",
       "      <th></th>\n",
       "      <th></th>\n",
       "      <th></th>\n",
       "      <th></th>\n",
       "      <th></th>\n",
       "      <th></th>\n",
       "      <th></th>\n",
       "      <th></th>\n",
       "      <th></th>\n",
       "      <th></th>\n",
       "      <th></th>\n",
       "      <th></th>\n",
       "      <th></th>\n",
       "      <th></th>\n",
       "      <th></th>\n",
       "      <th></th>\n",
       "      <th></th>\n",
       "      <th></th>\n",
       "      <th></th>\n",
       "      <th></th>\n",
       "    </tr>\n",
       "  </thead>\n",
       "  <tbody>\n",
       "    <tr>\n",
       "      <th>5</th>\n",
       "      <th>999</th>\n",
       "      <td>Friday</td>\n",
       "      <td>0</td>\n",
       "      <td>0</td>\n",
       "      <td>0</td>\n",
       "      <td>0</td>\n",
       "      <td>0</td>\n",
       "      <td>0</td>\n",
       "      <td>0</td>\n",
       "      <td>0</td>\n",
       "      <td>0</td>\n",
       "      <td>...</td>\n",
       "      <td>0</td>\n",
       "      <td>0</td>\n",
       "      <td>0</td>\n",
       "      <td>0</td>\n",
       "      <td>0</td>\n",
       "      <td>0</td>\n",
       "      <td>0</td>\n",
       "      <td>0</td>\n",
       "      <td>0</td>\n",
       "      <td>0</td>\n",
       "    </tr>\n",
       "    <tr>\n",
       "      <th>7</th>\n",
       "      <th>30</th>\n",
       "      <td>Friday</td>\n",
       "      <td>0</td>\n",
       "      <td>0</td>\n",
       "      <td>0</td>\n",
       "      <td>0</td>\n",
       "      <td>0</td>\n",
       "      <td>0</td>\n",
       "      <td>0</td>\n",
       "      <td>0</td>\n",
       "      <td>0</td>\n",
       "      <td>...</td>\n",
       "      <td>0</td>\n",
       "      <td>0</td>\n",
       "      <td>0</td>\n",
       "      <td>0</td>\n",
       "      <td>1</td>\n",
       "      <td>0</td>\n",
       "      <td>0</td>\n",
       "      <td>0</td>\n",
       "      <td>0</td>\n",
       "      <td>0</td>\n",
       "    </tr>\n",
       "  </tbody>\n",
       "</table>\n",
       "<p>2 rows × 70 columns</p>\n",
       "</div>"
      ],
      "text/plain": [
       "                     Weekday_  ScanCount_0  ScanCount_1-HR PHOTO  \\\n",
       "VisitNumber TripType                                               \n",
       "5           999        Friday            0                     0   \n",
       "7           30         Friday            0                     0   \n",
       "\n",
       "                      ScanCount_ACCESSORIES  ScanCount_AUTOMOTIVE  \\\n",
       "VisitNumber TripType                                                \n",
       "5           999                           0                     0   \n",
       "7           30                            0                     0   \n",
       "\n",
       "                      ScanCount_BAKERY  ScanCount_BATH AND SHOWER  \\\n",
       "VisitNumber TripType                                                \n",
       "5           999                      0                          0   \n",
       "7           30                       0                          0   \n",
       "\n",
       "                      ScanCount_BEAUTY  ScanCount_BEDDING  \\\n",
       "VisitNumber TripType                                        \n",
       "5           999                      0                  0   \n",
       "7           30                       0                  0   \n",
       "\n",
       "                      ScanCount_BOOKS AND MAGAZINES         ...          \\\n",
       "VisitNumber TripType                                        ...           \n",
       "5           999                                   0         ...           \n",
       "7           30                                    0         ...           \n",
       "\n",
       "                      ScanCount_SEAFOOD  ScanCount_SEASONAL  \\\n",
       "VisitNumber TripType                                          \n",
       "5           999                       0                   0   \n",
       "7           30                        0                   0   \n",
       "\n",
       "                      ScanCount_SERVICE DELI  ScanCount_SHEER HOSIERY  \\\n",
       "VisitNumber TripType                                                    \n",
       "5           999                            0                        0   \n",
       "7           30                             0                        0   \n",
       "\n",
       "                      ScanCount_SHOES  ScanCount_SLEEPWEAR/FOUNDATIONS  \\\n",
       "VisitNumber TripType                                                     \n",
       "5           999                     0                                0   \n",
       "7           30                      1                                0   \n",
       "\n",
       "                      ScanCount_SPORTING GOODS  ScanCount_SWIMWEAR/OUTERWEAR  \\\n",
       "VisitNumber TripType                                                           \n",
       "5           999                              0                             0   \n",
       "7           30                               0                             0   \n",
       "\n",
       "                      ScanCount_TOYS  ScanCount_WIRELESS  \n",
       "VisitNumber TripType                                      \n",
       "5           999                    0                   0  \n",
       "7           30                     0                   0  \n",
       "\n",
       "[2 rows x 70 columns]"
      ]
     },
     "execution_count": 262,
     "metadata": {},
     "output_type": "execute_result"
    }
   ],
   "source": [
    "km_table.head(2)"
   ]
  },
  {
   "cell_type": "code",
   "execution_count": 263,
   "metadata": {},
   "outputs": [],
   "source": [
    "# Reseting from multi index to one index col\n",
    "km_table.reset_index(level=[1], inplace=True)"
   ]
  },
  {
   "cell_type": "code",
   "execution_count": 264,
   "metadata": {},
   "outputs": [
    {
     "data": {
      "text/html": [
       "<div>\n",
       "<style scoped>\n",
       "    .dataframe tbody tr th:only-of-type {\n",
       "        vertical-align: middle;\n",
       "    }\n",
       "\n",
       "    .dataframe tbody tr th {\n",
       "        vertical-align: top;\n",
       "    }\n",
       "\n",
       "    .dataframe thead th {\n",
       "        text-align: right;\n",
       "    }\n",
       "</style>\n",
       "<table border=\"1\" class=\"dataframe\">\n",
       "  <thead>\n",
       "    <tr style=\"text-align: right;\">\n",
       "      <th></th>\n",
       "      <th>TripType</th>\n",
       "      <th>Weekday_</th>\n",
       "      <th>ScanCount_0</th>\n",
       "      <th>ScanCount_1-HR PHOTO</th>\n",
       "      <th>ScanCount_ACCESSORIES</th>\n",
       "      <th>ScanCount_AUTOMOTIVE</th>\n",
       "      <th>ScanCount_BAKERY</th>\n",
       "      <th>ScanCount_BATH AND SHOWER</th>\n",
       "      <th>ScanCount_BEAUTY</th>\n",
       "      <th>ScanCount_BEDDING</th>\n",
       "      <th>...</th>\n",
       "      <th>ScanCount_SEAFOOD</th>\n",
       "      <th>ScanCount_SEASONAL</th>\n",
       "      <th>ScanCount_SERVICE DELI</th>\n",
       "      <th>ScanCount_SHEER HOSIERY</th>\n",
       "      <th>ScanCount_SHOES</th>\n",
       "      <th>ScanCount_SLEEPWEAR/FOUNDATIONS</th>\n",
       "      <th>ScanCount_SPORTING GOODS</th>\n",
       "      <th>ScanCount_SWIMWEAR/OUTERWEAR</th>\n",
       "      <th>ScanCount_TOYS</th>\n",
       "      <th>ScanCount_WIRELESS</th>\n",
       "    </tr>\n",
       "    <tr>\n",
       "      <th>VisitNumber</th>\n",
       "      <th></th>\n",
       "      <th></th>\n",
       "      <th></th>\n",
       "      <th></th>\n",
       "      <th></th>\n",
       "      <th></th>\n",
       "      <th></th>\n",
       "      <th></th>\n",
       "      <th></th>\n",
       "      <th></th>\n",
       "      <th></th>\n",
       "      <th></th>\n",
       "      <th></th>\n",
       "      <th></th>\n",
       "      <th></th>\n",
       "      <th></th>\n",
       "      <th></th>\n",
       "      <th></th>\n",
       "      <th></th>\n",
       "      <th></th>\n",
       "      <th></th>\n",
       "    </tr>\n",
       "  </thead>\n",
       "  <tbody>\n",
       "    <tr>\n",
       "      <th>5</th>\n",
       "      <td>999</td>\n",
       "      <td>Friday</td>\n",
       "      <td>0</td>\n",
       "      <td>0</td>\n",
       "      <td>0</td>\n",
       "      <td>0</td>\n",
       "      <td>0</td>\n",
       "      <td>0</td>\n",
       "      <td>0</td>\n",
       "      <td>0</td>\n",
       "      <td>...</td>\n",
       "      <td>0</td>\n",
       "      <td>0</td>\n",
       "      <td>0</td>\n",
       "      <td>0</td>\n",
       "      <td>0</td>\n",
       "      <td>0</td>\n",
       "      <td>0</td>\n",
       "      <td>0</td>\n",
       "      <td>0</td>\n",
       "      <td>0</td>\n",
       "    </tr>\n",
       "    <tr>\n",
       "      <th>7</th>\n",
       "      <td>30</td>\n",
       "      <td>Friday</td>\n",
       "      <td>0</td>\n",
       "      <td>0</td>\n",
       "      <td>0</td>\n",
       "      <td>0</td>\n",
       "      <td>0</td>\n",
       "      <td>0</td>\n",
       "      <td>0</td>\n",
       "      <td>0</td>\n",
       "      <td>...</td>\n",
       "      <td>0</td>\n",
       "      <td>0</td>\n",
       "      <td>0</td>\n",
       "      <td>0</td>\n",
       "      <td>1</td>\n",
       "      <td>0</td>\n",
       "      <td>0</td>\n",
       "      <td>0</td>\n",
       "      <td>0</td>\n",
       "      <td>0</td>\n",
       "    </tr>\n",
       "  </tbody>\n",
       "</table>\n",
       "<p>2 rows × 71 columns</p>\n",
       "</div>"
      ],
      "text/plain": [
       "             TripType Weekday_  ScanCount_0  ScanCount_1-HR PHOTO  \\\n",
       "VisitNumber                                                         \n",
       "5                 999   Friday            0                     0   \n",
       "7                  30   Friday            0                     0   \n",
       "\n",
       "             ScanCount_ACCESSORIES  ScanCount_AUTOMOTIVE  ScanCount_BAKERY  \\\n",
       "VisitNumber                                                                  \n",
       "5                                0                     0                 0   \n",
       "7                                0                     0                 0   \n",
       "\n",
       "             ScanCount_BATH AND SHOWER  ScanCount_BEAUTY  ScanCount_BEDDING  \\\n",
       "VisitNumber                                                                   \n",
       "5                                    0                 0                  0   \n",
       "7                                    0                 0                  0   \n",
       "\n",
       "                    ...          ScanCount_SEAFOOD  ScanCount_SEASONAL  \\\n",
       "VisitNumber         ...                                                  \n",
       "5                   ...                          0                   0   \n",
       "7                   ...                          0                   0   \n",
       "\n",
       "             ScanCount_SERVICE DELI  ScanCount_SHEER HOSIERY  ScanCount_SHOES  \\\n",
       "VisitNumber                                                                     \n",
       "5                                 0                        0                0   \n",
       "7                                 0                        0                1   \n",
       "\n",
       "             ScanCount_SLEEPWEAR/FOUNDATIONS  ScanCount_SPORTING GOODS  \\\n",
       "VisitNumber                                                              \n",
       "5                                          0                         0   \n",
       "7                                          0                         0   \n",
       "\n",
       "             ScanCount_SWIMWEAR/OUTERWEAR  ScanCount_TOYS  ScanCount_WIRELESS  \n",
       "VisitNumber                                                                    \n",
       "5                                       0               0                   0  \n",
       "7                                       0               0                   0  \n",
       "\n",
       "[2 rows x 71 columns]"
      ]
     },
     "execution_count": 264,
     "metadata": {},
     "output_type": "execute_result"
    }
   ],
   "source": [
    "km_table.head(2)"
   ]
  },
  {
   "cell_type": "markdown",
   "metadata": {},
   "source": [
    "Now to change triptype and weekday with label encoder"
   ]
  },
  {
   "cell_type": "code",
   "execution_count": 265,
   "metadata": {},
   "outputs": [],
   "source": [
    "le1 = LabelEncoder()\n",
    "le2 = LabelEncoder()"
   ]
  },
  {
   "cell_type": "code",
   "execution_count": 266,
   "metadata": {},
   "outputs": [],
   "source": [
    "le_trip =    le1.fit(km_table.TripType)\n",
    "le_weekday = le2.fit(km_table.Weekday_)"
   ]
  },
  {
   "cell_type": "code",
   "execution_count": 267,
   "metadata": {},
   "outputs": [],
   "source": [
    "km_table['TripType'] = le_trip.transform(km_table.TripType)\n",
    "km_table['Weekday_'] = le_weekday.transform(km_table.Weekday_)"
   ]
  },
  {
   "cell_type": "code",
   "execution_count": 268,
   "metadata": {},
   "outputs": [
    {
     "data": {
      "text/html": [
       "<div>\n",
       "<style scoped>\n",
       "    .dataframe tbody tr th:only-of-type {\n",
       "        vertical-align: middle;\n",
       "    }\n",
       "\n",
       "    .dataframe tbody tr th {\n",
       "        vertical-align: top;\n",
       "    }\n",
       "\n",
       "    .dataframe thead th {\n",
       "        text-align: right;\n",
       "    }\n",
       "</style>\n",
       "<table border=\"1\" class=\"dataframe\">\n",
       "  <thead>\n",
       "    <tr style=\"text-align: right;\">\n",
       "      <th></th>\n",
       "      <th>TripType</th>\n",
       "      <th>Weekday_</th>\n",
       "      <th>ScanCount_0</th>\n",
       "      <th>ScanCount_1-HR PHOTO</th>\n",
       "      <th>ScanCount_ACCESSORIES</th>\n",
       "      <th>ScanCount_AUTOMOTIVE</th>\n",
       "      <th>ScanCount_BAKERY</th>\n",
       "      <th>ScanCount_BATH AND SHOWER</th>\n",
       "      <th>ScanCount_BEAUTY</th>\n",
       "      <th>ScanCount_BEDDING</th>\n",
       "      <th>...</th>\n",
       "      <th>ScanCount_SEAFOOD</th>\n",
       "      <th>ScanCount_SEASONAL</th>\n",
       "      <th>ScanCount_SERVICE DELI</th>\n",
       "      <th>ScanCount_SHEER HOSIERY</th>\n",
       "      <th>ScanCount_SHOES</th>\n",
       "      <th>ScanCount_SLEEPWEAR/FOUNDATIONS</th>\n",
       "      <th>ScanCount_SPORTING GOODS</th>\n",
       "      <th>ScanCount_SWIMWEAR/OUTERWEAR</th>\n",
       "      <th>ScanCount_TOYS</th>\n",
       "      <th>ScanCount_WIRELESS</th>\n",
       "    </tr>\n",
       "    <tr>\n",
       "      <th>VisitNumber</th>\n",
       "      <th></th>\n",
       "      <th></th>\n",
       "      <th></th>\n",
       "      <th></th>\n",
       "      <th></th>\n",
       "      <th></th>\n",
       "      <th></th>\n",
       "      <th></th>\n",
       "      <th></th>\n",
       "      <th></th>\n",
       "      <th></th>\n",
       "      <th></th>\n",
       "      <th></th>\n",
       "      <th></th>\n",
       "      <th></th>\n",
       "      <th></th>\n",
       "      <th></th>\n",
       "      <th></th>\n",
       "      <th></th>\n",
       "      <th></th>\n",
       "      <th></th>\n",
       "    </tr>\n",
       "  </thead>\n",
       "  <tbody>\n",
       "    <tr>\n",
       "      <th>5</th>\n",
       "      <td>37</td>\n",
       "      <td>0</td>\n",
       "      <td>0</td>\n",
       "      <td>0</td>\n",
       "      <td>0</td>\n",
       "      <td>0</td>\n",
       "      <td>0</td>\n",
       "      <td>0</td>\n",
       "      <td>0</td>\n",
       "      <td>0</td>\n",
       "      <td>...</td>\n",
       "      <td>0</td>\n",
       "      <td>0</td>\n",
       "      <td>0</td>\n",
       "      <td>0</td>\n",
       "      <td>0</td>\n",
       "      <td>0</td>\n",
       "      <td>0</td>\n",
       "      <td>0</td>\n",
       "      <td>0</td>\n",
       "      <td>0</td>\n",
       "    </tr>\n",
       "    <tr>\n",
       "      <th>7</th>\n",
       "      <td>22</td>\n",
       "      <td>0</td>\n",
       "      <td>0</td>\n",
       "      <td>0</td>\n",
       "      <td>0</td>\n",
       "      <td>0</td>\n",
       "      <td>0</td>\n",
       "      <td>0</td>\n",
       "      <td>0</td>\n",
       "      <td>0</td>\n",
       "      <td>...</td>\n",
       "      <td>0</td>\n",
       "      <td>0</td>\n",
       "      <td>0</td>\n",
       "      <td>0</td>\n",
       "      <td>1</td>\n",
       "      <td>0</td>\n",
       "      <td>0</td>\n",
       "      <td>0</td>\n",
       "      <td>0</td>\n",
       "      <td>0</td>\n",
       "    </tr>\n",
       "  </tbody>\n",
       "</table>\n",
       "<p>2 rows × 71 columns</p>\n",
       "</div>"
      ],
      "text/plain": [
       "             TripType  Weekday_  ScanCount_0  ScanCount_1-HR PHOTO  \\\n",
       "VisitNumber                                                          \n",
       "5                  37         0            0                     0   \n",
       "7                  22         0            0                     0   \n",
       "\n",
       "             ScanCount_ACCESSORIES  ScanCount_AUTOMOTIVE  ScanCount_BAKERY  \\\n",
       "VisitNumber                                                                  \n",
       "5                                0                     0                 0   \n",
       "7                                0                     0                 0   \n",
       "\n",
       "             ScanCount_BATH AND SHOWER  ScanCount_BEAUTY  ScanCount_BEDDING  \\\n",
       "VisitNumber                                                                   \n",
       "5                                    0                 0                  0   \n",
       "7                                    0                 0                  0   \n",
       "\n",
       "                    ...          ScanCount_SEAFOOD  ScanCount_SEASONAL  \\\n",
       "VisitNumber         ...                                                  \n",
       "5                   ...                          0                   0   \n",
       "7                   ...                          0                   0   \n",
       "\n",
       "             ScanCount_SERVICE DELI  ScanCount_SHEER HOSIERY  ScanCount_SHOES  \\\n",
       "VisitNumber                                                                     \n",
       "5                                 0                        0                0   \n",
       "7                                 0                        0                1   \n",
       "\n",
       "             ScanCount_SLEEPWEAR/FOUNDATIONS  ScanCount_SPORTING GOODS  \\\n",
       "VisitNumber                                                              \n",
       "5                                          0                         0   \n",
       "7                                          0                         0   \n",
       "\n",
       "             ScanCount_SWIMWEAR/OUTERWEAR  ScanCount_TOYS  ScanCount_WIRELESS  \n",
       "VisitNumber                                                                    \n",
       "5                                       0               0                   0  \n",
       "7                                       0               0                   0  \n",
       "\n",
       "[2 rows x 71 columns]"
      ]
     },
     "execution_count": 268,
     "metadata": {},
     "output_type": "execute_result"
    }
   ],
   "source": [
    "km_table.head(2)"
   ]
  },
  {
   "cell_type": "markdown",
   "metadata": {},
   "source": [
    "Data is ready"
   ]
  },
  {
   "cell_type": "markdown",
   "metadata": {},
   "source": [
    "# Clustering"
   ]
  },
  {
   "cell_type": "code",
   "execution_count": 255,
   "metadata": {},
   "outputs": [],
   "source": [
    "from sklearn.preprocessing import StandardScaler , LabelEncoder\n",
    "from sklearn.cluster import KMeans"
   ]
  },
  {
   "cell_type": "markdown",
   "metadata": {},
   "source": [
    "By the kmeans and the elbow method i'd like to improve the model's future prediction and find how many clusters i can find , altough i know there are 38 groups, i don't expect to find so many as some of thje trip types are very similar"
   ]
  },
  {
   "cell_type": "code",
   "execution_count": 289,
   "metadata": {},
   "outputs": [
    {
     "data": {
      "image/png": "[encoded data removed]",
      "text/plain": [
       "<matplotlib.figure.Figure at 0x1505306aac8>"
      ]
     },
     "metadata": {},
     "output_type": "display_data"
    }
   ],
   "source": [
    "sse = {}\n",
    "for i in range(1,38):\n",
    "    km = KMeans(n_clusters=i)\n",
    "    km_table['cluster'] = km.fit_predict(km_table.drop('TripType', axis=1))\n",
    "    sse[i] = km.inertia_\n",
    "\n",
    "plt.figure()\n",
    "plt.plot(list(sse.keys()), list(sse.values()))\n",
    "plt.xlabel(\"Number of cluster\")\n",
    "plt.ylabel(\"SSE\")\n",
    "plt.show()    "
   ]
  },
  {
   "cell_type": "markdown",
   "metadata": {},
   "source": [
    "looks like the 'elbow' is somewhere between 10 to 15"
   ]
  },
  {
   "cell_type": "code",
   "execution_count": 290,
   "metadata": {},
   "outputs": [
    {
     "data": {
      "text/html": [
       "<div>\n",
       "<style scoped>\n",
       "    .dataframe tbody tr th:only-of-type {\n",
       "        vertical-align: middle;\n",
       "    }\n",
       "\n",
       "    .dataframe tbody tr th {\n",
       "        vertical-align: top;\n",
       "    }\n",
       "\n",
       "    .dataframe thead th {\n",
       "        text-align: right;\n",
       "    }\n",
       "</style>\n",
       "<table border=\"1\" class=\"dataframe\">\n",
       "  <thead>\n",
       "    <tr style=\"text-align: right;\">\n",
       "      <th></th>\n",
       "      <th>TripType</th>\n",
       "      <th>Weekday_</th>\n",
       "      <th>ScanCount_0</th>\n",
       "      <th>ScanCount_1-HR PHOTO</th>\n",
       "      <th>ScanCount_ACCESSORIES</th>\n",
       "      <th>ScanCount_AUTOMOTIVE</th>\n",
       "      <th>ScanCount_BAKERY</th>\n",
       "      <th>ScanCount_BATH AND SHOWER</th>\n",
       "      <th>ScanCount_BEAUTY</th>\n",
       "      <th>ScanCount_BEDDING</th>\n",
       "      <th>...</th>\n",
       "      <th>ScanCount_SEASONAL</th>\n",
       "      <th>ScanCount_SERVICE DELI</th>\n",
       "      <th>ScanCount_SHEER HOSIERY</th>\n",
       "      <th>ScanCount_SHOES</th>\n",
       "      <th>ScanCount_SLEEPWEAR/FOUNDATIONS</th>\n",
       "      <th>ScanCount_SPORTING GOODS</th>\n",
       "      <th>ScanCount_SWIMWEAR/OUTERWEAR</th>\n",
       "      <th>ScanCount_TOYS</th>\n",
       "      <th>ScanCount_WIRELESS</th>\n",
       "      <th>cluster</th>\n",
       "    </tr>\n",
       "    <tr>\n",
       "      <th>VisitNumber</th>\n",
       "      <th></th>\n",
       "      <th></th>\n",
       "      <th></th>\n",
       "      <th></th>\n",
       "      <th></th>\n",
       "      <th></th>\n",
       "      <th></th>\n",
       "      <th></th>\n",
       "      <th></th>\n",
       "      <th></th>\n",
       "      <th></th>\n",
       "      <th></th>\n",
       "      <th></th>\n",
       "      <th></th>\n",
       "      <th></th>\n",
       "      <th></th>\n",
       "      <th></th>\n",
       "      <th></th>\n",
       "      <th></th>\n",
       "      <th></th>\n",
       "      <th></th>\n",
       "    </tr>\n",
       "  </thead>\n",
       "  <tbody>\n",
       "    <tr>\n",
       "      <th>5</th>\n",
       "      <td>37</td>\n",
       "      <td>0</td>\n",
       "      <td>0</td>\n",
       "      <td>0</td>\n",
       "      <td>0</td>\n",
       "      <td>0</td>\n",
       "      <td>0</td>\n",
       "      <td>0</td>\n",
       "      <td>0</td>\n",
       "      <td>0</td>\n",
       "      <td>...</td>\n",
       "      <td>0</td>\n",
       "      <td>0</td>\n",
       "      <td>0</td>\n",
       "      <td>0</td>\n",
       "      <td>0</td>\n",
       "      <td>0</td>\n",
       "      <td>0</td>\n",
       "      <td>0</td>\n",
       "      <td>0</td>\n",
       "      <td>0</td>\n",
       "    </tr>\n",
       "    <tr>\n",
       "      <th>7</th>\n",
       "      <td>22</td>\n",
       "      <td>0</td>\n",
       "      <td>0</td>\n",
       "      <td>0</td>\n",
       "      <td>0</td>\n",
       "      <td>0</td>\n",
       "      <td>0</td>\n",
       "      <td>0</td>\n",
       "      <td>0</td>\n",
       "      <td>0</td>\n",
       "      <td>...</td>\n",
       "      <td>0</td>\n",
       "      <td>0</td>\n",
       "      <td>0</td>\n",
       "      <td>1</td>\n",
       "      <td>0</td>\n",
       "      <td>0</td>\n",
       "      <td>0</td>\n",
       "      <td>0</td>\n",
       "      <td>0</td>\n",
       "      <td>0</td>\n",
       "    </tr>\n",
       "    <tr>\n",
       "      <th>8</th>\n",
       "      <td>18</td>\n",
       "      <td>0</td>\n",
       "      <td>1</td>\n",
       "      <td>0</td>\n",
       "      <td>0</td>\n",
       "      <td>0</td>\n",
       "      <td>0</td>\n",
       "      <td>0</td>\n",
       "      <td>0</td>\n",
       "      <td>0</td>\n",
       "      <td>...</td>\n",
       "      <td>0</td>\n",
       "      <td>0</td>\n",
       "      <td>0</td>\n",
       "      <td>0</td>\n",
       "      <td>0</td>\n",
       "      <td>0</td>\n",
       "      <td>0</td>\n",
       "      <td>0</td>\n",
       "      <td>0</td>\n",
       "      <td>3</td>\n",
       "    </tr>\n",
       "    <tr>\n",
       "      <th>9</th>\n",
       "      <td>5</td>\n",
       "      <td>0</td>\n",
       "      <td>0</td>\n",
       "      <td>0</td>\n",
       "      <td>0</td>\n",
       "      <td>0</td>\n",
       "      <td>0</td>\n",
       "      <td>0</td>\n",
       "      <td>0</td>\n",
       "      <td>0</td>\n",
       "      <td>...</td>\n",
       "      <td>0</td>\n",
       "      <td>0</td>\n",
       "      <td>0</td>\n",
       "      <td>0</td>\n",
       "      <td>0</td>\n",
       "      <td>0</td>\n",
       "      <td>0</td>\n",
       "      <td>0</td>\n",
       "      <td>0</td>\n",
       "      <td>0</td>\n",
       "    </tr>\n",
       "    <tr>\n",
       "      <th>10</th>\n",
       "      <td>5</td>\n",
       "      <td>0</td>\n",
       "      <td>0</td>\n",
       "      <td>0</td>\n",
       "      <td>0</td>\n",
       "      <td>0</td>\n",
       "      <td>0</td>\n",
       "      <td>0</td>\n",
       "      <td>0</td>\n",
       "      <td>0</td>\n",
       "      <td>...</td>\n",
       "      <td>0</td>\n",
       "      <td>0</td>\n",
       "      <td>0</td>\n",
       "      <td>0</td>\n",
       "      <td>0</td>\n",
       "      <td>0</td>\n",
       "      <td>0</td>\n",
       "      <td>0</td>\n",
       "      <td>0</td>\n",
       "      <td>3</td>\n",
       "    </tr>\n",
       "  </tbody>\n",
       "</table>\n",
       "<p>5 rows × 72 columns</p>\n",
       "</div>"
      ],
      "text/plain": [
       "             TripType  Weekday_  ScanCount_0  ScanCount_1-HR PHOTO  \\\n",
       "VisitNumber                                                          \n",
       "5                  37         0            0                     0   \n",
       "7                  22         0            0                     0   \n",
       "8                  18         0            1                     0   \n",
       "9                   5         0            0                     0   \n",
       "10                  5         0            0                     0   \n",
       "\n",
       "             ScanCount_ACCESSORIES  ScanCount_AUTOMOTIVE  ScanCount_BAKERY  \\\n",
       "VisitNumber                                                                  \n",
       "5                                0                     0                 0   \n",
       "7                                0                     0                 0   \n",
       "8                                0                     0                 0   \n",
       "9                                0                     0                 0   \n",
       "10                               0                     0                 0   \n",
       "\n",
       "             ScanCount_BATH AND SHOWER  ScanCount_BEAUTY  ScanCount_BEDDING  \\\n",
       "VisitNumber                                                                   \n",
       "5                                    0                 0                  0   \n",
       "7                                    0                 0                  0   \n",
       "8                                    0                 0                  0   \n",
       "9                                    0                 0                  0   \n",
       "10                                   0                 0                  0   \n",
       "\n",
       "              ...     ScanCount_SEASONAL  ScanCount_SERVICE DELI  \\\n",
       "VisitNumber   ...                                                  \n",
       "5             ...                      0                       0   \n",
       "7             ...                      0                       0   \n",
       "8             ...                      0                       0   \n",
       "9             ...                      0                       0   \n",
       "10            ...                      0                       0   \n",
       "\n",
       "             ScanCount_SHEER HOSIERY  ScanCount_SHOES  \\\n",
       "VisitNumber                                             \n",
       "5                                  0                0   \n",
       "7                                  0                1   \n",
       "8                                  0                0   \n",
       "9                                  0                0   \n",
       "10                                 0                0   \n",
       "\n",
       "             ScanCount_SLEEPWEAR/FOUNDATIONS  ScanCount_SPORTING GOODS  \\\n",
       "VisitNumber                                                              \n",
       "5                                          0                         0   \n",
       "7                                          0                         0   \n",
       "8                                          0                         0   \n",
       "9                                          0                         0   \n",
       "10                                         0                         0   \n",
       "\n",
       "             ScanCount_SWIMWEAR/OUTERWEAR  ScanCount_TOYS  ScanCount_WIRELESS  \\\n",
       "VisitNumber                                                                     \n",
       "5                                       0               0                   0   \n",
       "7                                       0               0                   0   \n",
       "8                                       0               0                   0   \n",
       "9                                       0               0                   0   \n",
       "10                                      0               0                   0   \n",
       "\n",
       "             cluster  \n",
       "VisitNumber           \n",
       "5                  0  \n",
       "7                  0  \n",
       "8                  3  \n",
       "9                  0  \n",
       "10                 3  \n",
       "\n",
       "[5 rows x 72 columns]"
      ]
     },
     "execution_count": 290,
     "metadata": {},
     "output_type": "execute_result"
    }
   ],
   "source": [
    "km = KMeans(n_clusters=13)\n",
    "km_table['cluster'] = km.fit_predict(km_table.drop('TripType', axis=1))\n",
    "km_table.head()"
   ]
  },
  {
   "cell_type": "markdown",
   "metadata": {},
   "source": [
    "# Modeling"
   ]
  },
  {
   "cell_type": "code",
   "execution_count": 292,
   "metadata": {},
   "outputs": [],
   "source": [
    "import keras\n",
    "from keras.models import Sequential\n",
    "from keras.layers import Dropout , Dense"
   ]
  },
  {
   "cell_type": "code",
   "execution_count": 297,
   "metadata": {},
   "outputs": [],
   "source": [
    "from sklearn.model_selection import train_test_split "
   ]
  },
  {
   "cell_type": "code",
   "execution_count": 350,
   "metadata": {},
   "outputs": [],
   "source": [
    "from sklearn.preprocessing import RobustScaler , StandardScaler, MinMaxScaler"
   ]
  },
  {
   "cell_type": "markdown",
   "metadata": {},
   "source": [
    "I've label encodeded weekday before but now i dont think it was the correct thing to do as i need to chnge it to dummies, ill revert and change. I also need to change the clusters to dummies"
   ]
  },
  {
   "cell_type": "code",
   "execution_count": 317,
   "metadata": {},
   "outputs": [],
   "source": [
    "km_table['Weekday_'] = le_weekday.inverse_transform(km_table.Weekday_)"
   ]
  },
  {
   "cell_type": "code",
   "execution_count": 380,
   "metadata": {},
   "outputs": [],
   "source": [
    "km_table['cluster'] = km_table.cluster.astype(str)"
   ]
  },
  {
   "cell_type": "code",
   "execution_count": 381,
   "metadata": {},
   "outputs": [],
   "source": [
    "km_table = pd.get_dummies(km_table)"
   ]
  },
  {
   "cell_type": "code",
   "execution_count": 473,
   "metadata": {},
   "outputs": [],
   "source": [
    "X = km_table.drop('TripType', axis=1)\n",
    "y = km_table.TripType"
   ]
  },
  {
   "cell_type": "markdown",
   "metadata": {},
   "source": [
    "https://scikit-learn.org/stable/auto_examples/preprocessing/plot_all_scaling.html#results - Scalers types"
   ]
  },
  {
   "cell_type": "code",
   "execution_count": 385,
   "metadata": {},
   "outputs": [],
   "source": [
    "x_train , x_test , y_train , y_test = train_test_split(X, y , test_size = 0.2)"
   ]
  },
  {
   "cell_type": "code",
   "execution_count": 498,
   "metadata": {},
   "outputs": [],
   "source": [
    "rs = MinMaxScaler()"
   ]
  },
  {
   "cell_type": "code",
   "execution_count": 499,
   "metadata": {},
   "outputs": [],
   "source": [
    "# x_train.iloc[:,0:69].columns"
   ]
  },
  {
   "cell_type": "markdown",
   "metadata": {},
   "source": [
    "Used several scalers, minmax had the best results which makes sense"
   ]
  },
  {
   "cell_type": "markdown",
   "metadata": {},
   "source": [
    "Scaling the deaprtments count wihtout scaling the dummies days and clusters"
   ]
  },
  {
   "cell_type": "code",
   "execution_count": 500,
   "metadata": {},
   "outputs": [],
   "source": [
    "scaler = rs.fit(x_train.iloc[:,0:69])"
   ]
  },
  {
   "cell_type": "code",
   "execution_count": 501,
   "metadata": {},
   "outputs": [],
   "source": [
    "x_train.iloc[:,0:69] = scaler.transform(x_train.iloc[:,0:69])"
   ]
  },
  {
   "cell_type": "code",
   "execution_count": 502,
   "metadata": {},
   "outputs": [
    {
     "data": {
      "text/html": [
       "<div>\n",
       "<style scoped>\n",
       "    .dataframe tbody tr th:only-of-type {\n",
       "        vertical-align: middle;\n",
       "    }\n",
       "\n",
       "    .dataframe tbody tr th {\n",
       "        vertical-align: top;\n",
       "    }\n",
       "\n",
       "    .dataframe thead th {\n",
       "        text-align: right;\n",
       "    }\n",
       "</style>\n",
       "<table border=\"1\" class=\"dataframe\">\n",
       "  <thead>\n",
       "    <tr style=\"text-align: right;\">\n",
       "      <th></th>\n",
       "      <th>ScanCount_0</th>\n",
       "      <th>ScanCount_1-HR PHOTO</th>\n",
       "      <th>ScanCount_ACCESSORIES</th>\n",
       "      <th>ScanCount_AUTOMOTIVE</th>\n",
       "      <th>ScanCount_BAKERY</th>\n",
       "      <th>ScanCount_BATH AND SHOWER</th>\n",
       "      <th>ScanCount_BEAUTY</th>\n",
       "      <th>ScanCount_BEDDING</th>\n",
       "      <th>ScanCount_BOOKS AND MAGAZINES</th>\n",
       "      <th>ScanCount_BOYS WEAR</th>\n",
       "      <th>...</th>\n",
       "      <th>cluster_11</th>\n",
       "      <th>cluster_12</th>\n",
       "      <th>cluster_2</th>\n",
       "      <th>cluster_3</th>\n",
       "      <th>cluster_4</th>\n",
       "      <th>cluster_5</th>\n",
       "      <th>cluster_6</th>\n",
       "      <th>cluster_7</th>\n",
       "      <th>cluster_8</th>\n",
       "      <th>cluster_9</th>\n",
       "    </tr>\n",
       "    <tr>\n",
       "      <th>VisitNumber</th>\n",
       "      <th></th>\n",
       "      <th></th>\n",
       "      <th></th>\n",
       "      <th></th>\n",
       "      <th></th>\n",
       "      <th></th>\n",
       "      <th></th>\n",
       "      <th></th>\n",
       "      <th></th>\n",
       "      <th></th>\n",
       "      <th></th>\n",
       "      <th></th>\n",
       "      <th></th>\n",
       "      <th></th>\n",
       "      <th></th>\n",
       "      <th></th>\n",
       "      <th></th>\n",
       "      <th></th>\n",
       "      <th></th>\n",
       "      <th></th>\n",
       "      <th></th>\n",
       "    </tr>\n",
       "  </thead>\n",
       "  <tbody>\n",
       "    <tr>\n",
       "      <th>122976</th>\n",
       "      <td>0.307692</td>\n",
       "      <td>0.142857</td>\n",
       "      <td>0.090909</td>\n",
       "      <td>0.363636</td>\n",
       "      <td>0.114286</td>\n",
       "      <td>0.069444</td>\n",
       "      <td>0.134615</td>\n",
       "      <td>0.181818</td>\n",
       "      <td>0.125</td>\n",
       "      <td>0.324324</td>\n",
       "      <td>...</td>\n",
       "      <td>0</td>\n",
       "      <td>0</td>\n",
       "      <td>0</td>\n",
       "      <td>0</td>\n",
       "      <td>0</td>\n",
       "      <td>0</td>\n",
       "      <td>0</td>\n",
       "      <td>0</td>\n",
       "      <td>0</td>\n",
       "      <td>0</td>\n",
       "    </tr>\n",
       "    <tr>\n",
       "      <th>71461</th>\n",
       "      <td>0.307692</td>\n",
       "      <td>0.142857</td>\n",
       "      <td>0.090909</td>\n",
       "      <td>0.363636</td>\n",
       "      <td>0.114286</td>\n",
       "      <td>0.069444</td>\n",
       "      <td>0.134615</td>\n",
       "      <td>0.181818</td>\n",
       "      <td>0.125</td>\n",
       "      <td>0.324324</td>\n",
       "      <td>...</td>\n",
       "      <td>0</td>\n",
       "      <td>0</td>\n",
       "      <td>0</td>\n",
       "      <td>0</td>\n",
       "      <td>0</td>\n",
       "      <td>0</td>\n",
       "      <td>0</td>\n",
       "      <td>1</td>\n",
       "      <td>0</td>\n",
       "      <td>0</td>\n",
       "    </tr>\n",
       "    <tr>\n",
       "      <th>173183</th>\n",
       "      <td>0.307692</td>\n",
       "      <td>0.142857</td>\n",
       "      <td>0.090909</td>\n",
       "      <td>0.363636</td>\n",
       "      <td>0.114286</td>\n",
       "      <td>0.069444</td>\n",
       "      <td>0.134615</td>\n",
       "      <td>0.181818</td>\n",
       "      <td>0.125</td>\n",
       "      <td>0.324324</td>\n",
       "      <td>...</td>\n",
       "      <td>0</td>\n",
       "      <td>0</td>\n",
       "      <td>0</td>\n",
       "      <td>0</td>\n",
       "      <td>0</td>\n",
       "      <td>0</td>\n",
       "      <td>0</td>\n",
       "      <td>0</td>\n",
       "      <td>0</td>\n",
       "      <td>0</td>\n",
       "    </tr>\n",
       "  </tbody>\n",
       "</table>\n",
       "<p>3 rows × 89 columns</p>\n",
       "</div>"
      ],
      "text/plain": [
       "             ScanCount_0  ScanCount_1-HR PHOTO  ScanCount_ACCESSORIES  \\\n",
       "VisitNumber                                                             \n",
       "122976          0.307692              0.142857               0.090909   \n",
       "71461           0.307692              0.142857               0.090909   \n",
       "173183          0.307692              0.142857               0.090909   \n",
       "\n",
       "             ScanCount_AUTOMOTIVE  ScanCount_BAKERY  \\\n",
       "VisitNumber                                           \n",
       "122976                   0.363636          0.114286   \n",
       "71461                    0.363636          0.114286   \n",
       "173183                   0.363636          0.114286   \n",
       "\n",
       "             ScanCount_BATH AND SHOWER  ScanCount_BEAUTY  ScanCount_BEDDING  \\\n",
       "VisitNumber                                                                   \n",
       "122976                        0.069444          0.134615           0.181818   \n",
       "71461                         0.069444          0.134615           0.181818   \n",
       "173183                        0.069444          0.134615           0.181818   \n",
       "\n",
       "             ScanCount_BOOKS AND MAGAZINES  ScanCount_BOYS WEAR    ...      \\\n",
       "VisitNumber                                                        ...       \n",
       "122976                               0.125             0.324324    ...       \n",
       "71461                                0.125             0.324324    ...       \n",
       "173183                               0.125             0.324324    ...       \n",
       "\n",
       "             cluster_11  cluster_12  cluster_2  cluster_3  cluster_4  \\\n",
       "VisitNumber                                                            \n",
       "122976                0           0          0          0          0   \n",
       "71461                 0           0          0          0          0   \n",
       "173183                0           0          0          0          0   \n",
       "\n",
       "             cluster_5  cluster_6  cluster_7  cluster_8  cluster_9  \n",
       "VisitNumber                                                         \n",
       "122976               0          0          0          0          0  \n",
       "71461                0          0          1          0          0  \n",
       "173183               0          0          0          0          0  \n",
       "\n",
       "[3 rows x 89 columns]"
      ]
     },
     "execution_count": 502,
     "metadata": {},
     "output_type": "execute_result"
    }
   ],
   "source": [
    "x_train.head(3)"
   ]
  },
  {
   "cell_type": "code",
   "execution_count": 420,
   "metadata": {},
   "outputs": [],
   "source": [
    "from keras.utils.np_utils import to_categorical"
   ]
  },
  {
   "cell_type": "code",
   "execution_count": 503,
   "metadata": {},
   "outputs": [],
   "source": [
    "categorical_labels = to_categorical(y_train)"
   ]
  },
  {
   "cell_type": "code",
   "execution_count": 504,
   "metadata": {},
   "outputs": [
    {
     "data": {
      "text/plain": [
       "array([[0., 0., 0., ..., 0., 0., 1.],\n",
       "       [0., 0., 0., ..., 0., 0., 0.],\n",
       "       [0., 0., 0., ..., 0., 0., 0.],\n",
       "       ...,\n",
       "       [0., 0., 0., ..., 0., 0., 0.],\n",
       "       [0., 0., 0., ..., 0., 0., 0.],\n",
       "       [0., 0., 0., ..., 0., 0., 0.]], dtype=float32)"
      ]
     },
     "execution_count": 504,
     "metadata": {},
     "output_type": "execute_result"
    }
   ],
   "source": [
    "categorical_labels"
   ]
  },
  {
   "cell_type": "code",
   "execution_count": 615,
   "metadata": {},
   "outputs": [],
   "source": [
    "model = Sequential()"
   ]
  },
  {
   "cell_type": "code",
   "execution_count": 616,
   "metadata": {},
   "outputs": [],
   "source": [
    "model.add(Dense(units=32, kernel_initializer='uniform', activation='relu', input_dim=89))\n",
    "model.add(Dropout(rate=0.2))\n",
    "model.add(Dense(units=32, kernel_initializer='uniform', activation='relu'))\n",
    "model.add(Dropout(rate=0.2))\n",
    "model.add(Dense(units=32, kernel_initializer='uniform', activation='relu'))\n",
    "model.add(Dropout(rate=0.2))\n",
    "model.add(Dense(units=38, activation='softmax'))\n",
    "model.compile(loss='categorical_crossentropy', optimizer='rmsprop', metrics=['categorical_accuracy'])"
   ]
  },
  {
   "cell_type": "code",
   "execution_count": 617,
   "metadata": {},
   "outputs": [
    {
     "name": "stdout",
     "output_type": "stream",
     "text": [
      "Epoch 1/150\n",
      "76539/76539 [==============================] - 4s 49us/step - loss: 3.1520 - categorical_accuracy: 0.1123\n",
      "Epoch 2/150\n",
      "76539/76539 [==============================] - 2s 20us/step - loss: 3.0523 - categorical_accuracy: 0.1373\n",
      "Epoch 3/150\n",
      "76539/76539 [==============================] - 2s 20us/step - loss: 2.8530 - categorical_accuracy: 0.2008\n",
      "Epoch 4/150\n",
      "76539/76539 [==============================] - 2s 20us/step - loss: 2.7686 - categorical_accuracy: 0.2232\n",
      "Epoch 5/150\n",
      "76539/76539 [==============================] - 2s 20us/step - loss: 2.7138 - categorical_accuracy: 0.2343\n",
      "Epoch 6/150\n",
      "76539/76539 [==============================] - 2s 20us/step - loss: 2.6693 - categorical_accuracy: 0.2476\n",
      "Epoch 7/150\n",
      "76539/76539 [==============================] - 2s 20us/step - loss: 2.6193 - categorical_accuracy: 0.2675\n",
      "Epoch 8/150\n",
      "76539/76539 [==============================] - 2s 21us/step - loss: 2.5754 - categorical_accuracy: 0.2793\n",
      "Epoch 9/150\n",
      "76539/76539 [==============================] - 2s 20us/step - loss: 2.5495 - categorical_accuracy: 0.2869\n",
      "Epoch 10/150\n",
      "76539/76539 [==============================] - 2s 20us/step - loss: 2.5243 - categorical_accuracy: 0.2930\n",
      "Epoch 11/150\n",
      "76539/76539 [==============================] - 2s 20us/step - loss: 2.5101 - categorical_accuracy: 0.2968\n",
      "Epoch 12/150\n",
      "76539/76539 [==============================] - 2s 20us/step - loss: 2.4908 - categorical_accuracy: 0.3054\n",
      "Epoch 13/150\n",
      "76539/76539 [==============================] - 2s 20us/step - loss: 2.4793 - categorical_accuracy: 0.3069\n",
      "Epoch 14/150\n",
      "76539/76539 [==============================] - 2s 20us/step - loss: 2.4657 - categorical_accuracy: 0.3090\n",
      "Epoch 15/150\n",
      "76539/76539 [==============================] - 2s 21us/step - loss: 2.4576 - categorical_accuracy: 0.3124\n",
      "Epoch 16/150\n",
      "76539/76539 [==============================] - 2s 21us/step - loss: 2.4438 - categorical_accuracy: 0.3151\n",
      "Epoch 17/150\n",
      "76539/76539 [==============================] - 2s 20us/step - loss: 2.4365 - categorical_accuracy: 0.3192\n",
      "Epoch 18/150\n",
      "76539/76539 [==============================] - 2s 20us/step - loss: 2.4268 - categorical_accuracy: 0.3211\n",
      "Epoch 19/150\n",
      "76539/76539 [==============================] - 2s 21us/step - loss: 2.4204 - categorical_accuracy: 0.3214\n",
      "Epoch 20/150\n",
      "76539/76539 [==============================] - 2s 21us/step - loss: 2.4102 - categorical_accuracy: 0.3238\n",
      "Epoch 21/150\n",
      "76539/76539 [==============================] - 2s 20us/step - loss: 2.4030 - categorical_accuracy: 0.3280\n",
      "Epoch 22/150\n",
      "76539/76539 [==============================] - 2s 21us/step - loss: 2.3936 - categorical_accuracy: 0.3308\n",
      "Epoch 23/150\n",
      "76539/76539 [==============================] - 2s 21us/step - loss: 2.3905 - categorical_accuracy: 0.3302\n",
      "Epoch 24/150\n",
      "76539/76539 [==============================] - 2s 21us/step - loss: 2.3814 - categorical_accuracy: 0.3315\n",
      "Epoch 25/150\n",
      "76539/76539 [==============================] - 2s 21us/step - loss: 2.3700 - categorical_accuracy: 0.3401\n",
      "Epoch 26/150\n",
      "76539/76539 [==============================] - 2s 21us/step - loss: 2.3719 - categorical_accuracy: 0.3349\n",
      "Epoch 27/150\n",
      "76539/76539 [==============================] - 2s 21us/step - loss: 2.3648 - categorical_accuracy: 0.3400\n",
      "Epoch 28/150\n",
      "76539/76539 [==============================] - 2s 21us/step - loss: 2.3594 - categorical_accuracy: 0.3405\n",
      "Epoch 29/150\n",
      "76539/76539 [==============================] - 2s 21us/step - loss: 2.3535 - categorical_accuracy: 0.3402\n",
      "Epoch 30/150\n",
      "76539/76539 [==============================] - 2s 21us/step - loss: 2.3471 - categorical_accuracy: 0.3429\n",
      "Epoch 31/150\n",
      "76539/76539 [==============================] - 2s 21us/step - loss: 2.3414 - categorical_accuracy: 0.3451\n",
      "Epoch 32/150\n",
      "76539/76539 [==============================] - 2s 21us/step - loss: 2.3371 - categorical_accuracy: 0.3464\n",
      "Epoch 33/150\n",
      "76539/76539 [==============================] - 2s 21us/step - loss: 2.3299 - categorical_accuracy: 0.3468\n",
      "Epoch 34/150\n",
      "76539/76539 [==============================] - 2s 21us/step - loss: 2.3248 - categorical_accuracy: 0.3487\n",
      "Epoch 35/150\n",
      "76539/76539 [==============================] - 2s 21us/step - loss: 2.3169 - categorical_accuracy: 0.3502\n",
      "Epoch 36/150\n",
      "76539/76539 [==============================] - 2s 21us/step - loss: 2.3158 - categorical_accuracy: 0.3515\n",
      "Epoch 37/150\n",
      "76539/76539 [==============================] - 2s 20us/step - loss: 2.3086 - categorical_accuracy: 0.3529\n",
      "Epoch 38/150\n",
      "76539/76539 [==============================] - 2s 20us/step - loss: 2.3053 - categorical_accuracy: 0.3520\n",
      "Epoch 39/150\n",
      "76539/76539 [==============================] - 2s 21us/step - loss: 2.2998 - categorical_accuracy: 0.3524\n",
      "Epoch 40/150\n",
      "76539/76539 [==============================] - 2s 21us/step - loss: 2.2962 - categorical_accuracy: 0.3534\n",
      "Epoch 41/150\n",
      "76539/76539 [==============================] - 2s 21us/step - loss: 2.2888 - categorical_accuracy: 0.3587\n",
      "Epoch 42/150\n",
      "76539/76539 [==============================] - 2s 21us/step - loss: 2.2862 - categorical_accuracy: 0.3597\n",
      "Epoch 43/150\n",
      "76539/76539 [==============================] - 2s 21us/step - loss: 2.2867 - categorical_accuracy: 0.3555\n",
      "Epoch 44/150\n",
      "76539/76539 [==============================] - 2s 21us/step - loss: 2.2779 - categorical_accuracy: 0.3595\n",
      "Epoch 45/150\n",
      "76539/76539 [==============================] - 2s 21us/step - loss: 2.2726 - categorical_accuracy: 0.3602\n",
      "Epoch 46/150\n",
      "76539/76539 [==============================] - 2s 21us/step - loss: 2.2709 - categorical_accuracy: 0.3631\n",
      "Epoch 47/150\n",
      "76539/76539 [==============================] - 2s 21us/step - loss: 2.2650 - categorical_accuracy: 0.3631\n",
      "Epoch 48/150\n",
      "76539/76539 [==============================] - 2s 21us/step - loss: 2.2617 - categorical_accuracy: 0.3642\n",
      "Epoch 49/150\n",
      "76539/76539 [==============================] - 2s 21us/step - loss: 2.2580 - categorical_accuracy: 0.3663\n",
      "Epoch 50/150\n",
      "76539/76539 [==============================] - 2s 21us/step - loss: 2.2574 - categorical_accuracy: 0.3683\n",
      "Epoch 51/150\n",
      "76539/76539 [==============================] - 2s 21us/step - loss: 2.2529 - categorical_accuracy: 0.3664\n",
      "Epoch 52/150\n",
      "76539/76539 [==============================] - 2s 21us/step - loss: 2.2481 - categorical_accuracy: 0.3708 \n",
      "Epoch 53/150\n",
      "76539/76539 [==============================] - 2s 21us/step - loss: 2.2446 - categorical_accuracy: 0.3684\n",
      "Epoch 54/150\n",
      "76539/76539 [==============================] - 2s 21us/step - loss: 2.2394 - categorical_accuracy: 0.3702\n",
      "Epoch 55/150\n",
      "76539/76539 [==============================] - 2s 22us/step - loss: 2.2354 - categorical_accuracy: 0.3728\n",
      "Epoch 56/150\n",
      "76539/76539 [==============================] - 2s 21us/step - loss: 2.2341 - categorical_accuracy: 0.3716\n",
      "Epoch 57/150\n",
      "76539/76539 [==============================] - 2s 22us/step - loss: 2.2313 - categorical_accuracy: 0.3718\n",
      "Epoch 58/150\n",
      "76539/76539 [==============================] - 2s 21us/step - loss: 2.2258 - categorical_accuracy: 0.3737\n",
      "Epoch 59/150\n",
      "76539/76539 [==============================] - 2s 21us/step - loss: 2.2239 - categorical_accuracy: 0.3740\n",
      "Epoch 60/150\n",
      "76539/76539 [==============================] - 2s 22us/step - loss: 2.2155 - categorical_accuracy: 0.3791\n",
      "Epoch 61/150\n",
      "76539/76539 [==============================] - 2s 22us/step - loss: 2.2201 - categorical_accuracy: 0.3754\n",
      "Epoch 62/150\n",
      "76539/76539 [==============================] - 2s 22us/step - loss: 2.2159 - categorical_accuracy: 0.3777\n",
      "Epoch 63/150\n",
      "76539/76539 [==============================] - 2s 21us/step - loss: 2.2085 - categorical_accuracy: 0.3800\n",
      "Epoch 64/150\n",
      "76539/76539 [==============================] - 2s 21us/step - loss: 2.2080 - categorical_accuracy: 0.3793\n",
      "Epoch 65/150\n",
      "76539/76539 [==============================] - 2s 22us/step - loss: 2.2066 - categorical_accuracy: 0.3796\n",
      "Epoch 66/150\n",
      "76539/76539 [==============================] - 2s 21us/step - loss: 2.2037 - categorical_accuracy: 0.3800\n",
      "Epoch 67/150\n",
      "76539/76539 [==============================] - 2s 21us/step - loss: 2.2025 - categorical_accuracy: 0.3823\n",
      "Epoch 68/150\n",
      "76539/76539 [==============================] - 2s 22us/step - loss: 2.1993 - categorical_accuracy: 0.3818\n",
      "Epoch 69/150\n"
     ]
    },
    {
     "name": "stdout",
     "output_type": "stream",
     "text": [
      "76539/76539 [==============================] - 1s 19us/step - loss: 2.1923 - categorical_accuracy: 0.3841\n",
      "Epoch 70/150\n",
      "76539/76539 [==============================] - 1s 19us/step - loss: 2.1909 - categorical_accuracy: 0.3831\n",
      "Epoch 71/150\n",
      "76539/76539 [==============================] - 1s 20us/step - loss: 2.1854 - categorical_accuracy: 0.3868\n",
      "Epoch 72/150\n",
      "76539/76539 [==============================] - 2s 20us/step - loss: 2.1871 - categorical_accuracy: 0.3838\n",
      "Epoch 73/150\n",
      "76539/76539 [==============================] - 1s 19us/step - loss: 2.1820 - categorical_accuracy: 0.3876\n",
      "Epoch 74/150\n",
      "76539/76539 [==============================] - 2s 20us/step - loss: 2.1836 - categorical_accuracy: 0.3832\n",
      "Epoch 75/150\n",
      "76539/76539 [==============================] - 1s 19us/step - loss: 2.1773 - categorical_accuracy: 0.3897\n",
      "Epoch 76/150\n",
      "76539/76539 [==============================] - 1s 20us/step - loss: 2.1736 - categorical_accuracy: 0.3882\n",
      "Epoch 77/150\n",
      "76539/76539 [==============================] - 1s 19us/step - loss: 2.1733 - categorical_accuracy: 0.3898\n",
      "Epoch 78/150\n",
      "76539/76539 [==============================] - 2s 20us/step - loss: 2.1695 - categorical_accuracy: 0.3904\n",
      "Epoch 79/150\n",
      "76539/76539 [==============================] - 2s 20us/step - loss: 2.1661 - categorical_accuracy: 0.3935\n",
      "Epoch 80/150\n",
      "76539/76539 [==============================] - 1s 19us/step - loss: 2.1652 - categorical_accuracy: 0.3910\n",
      "Epoch 81/150\n",
      "76539/76539 [==============================] - 1s 20us/step - loss: 2.1621 - categorical_accuracy: 0.3925\n",
      "Epoch 82/150\n",
      "76539/76539 [==============================] - 1s 20us/step - loss: 2.1583 - categorical_accuracy: 0.3914\n",
      "Epoch 83/150\n",
      "76539/76539 [==============================] - 2s 20us/step - loss: 2.1552 - categorical_accuracy: 0.3961\n",
      "Epoch 84/150\n",
      "76539/76539 [==============================] - 1s 19us/step - loss: 2.1522 - categorical_accuracy: 0.3944\n",
      "Epoch 85/150\n",
      "76539/76539 [==============================] - 1s 20us/step - loss: 2.1498 - categorical_accuracy: 0.3960\n",
      "Epoch 86/150\n",
      "76539/76539 [==============================] - 2s 20us/step - loss: 2.1517 - categorical_accuracy: 0.3942\n",
      "Epoch 87/150\n",
      "76539/76539 [==============================] - 2s 20us/step - loss: 2.1415 - categorical_accuracy: 0.4003\n",
      "Epoch 88/150\n",
      "76539/76539 [==============================] - 1s 19us/step - loss: 2.1408 - categorical_accuracy: 0.3980\n",
      "Epoch 89/150\n",
      "76539/76539 [==============================] - 2s 20us/step - loss: 2.1369 - categorical_accuracy: 0.3985\n",
      "Epoch 90/150\n",
      "76539/76539 [==============================] - 2s 20us/step - loss: 2.1389 - categorical_accuracy: 0.3989\n",
      "Epoch 91/150\n",
      "76539/76539 [==============================] - 2s 20us/step - loss: 2.1361 - categorical_accuracy: 0.3991\n",
      "Epoch 92/150\n",
      "76539/76539 [==============================] - 2s 20us/step - loss: 2.1301 - categorical_accuracy: 0.4018\n",
      "Epoch 93/150\n",
      "76539/76539 [==============================] - 2s 20us/step - loss: 2.1307 - categorical_accuracy: 0.4030\n",
      "Epoch 94/150\n",
      "76539/76539 [==============================] - 2s 20us/step - loss: 2.1281 - categorical_accuracy: 0.4044\n",
      "Epoch 95/150\n",
      "76539/76539 [==============================] - 2s 20us/step - loss: 2.1245 - categorical_accuracy: 0.4052\n",
      "Epoch 96/150\n",
      "76539/76539 [==============================] - 1s 20us/step - loss: 2.1248 - categorical_accuracy: 0.4033\n",
      "Epoch 97/150\n",
      "76539/76539 [==============================] - 2s 20us/step - loss: 2.1230 - categorical_accuracy: 0.4055\n",
      "Epoch 98/150\n",
      "76539/76539 [==============================] - 2s 20us/step - loss: 2.1137 - categorical_accuracy: 0.4064\n",
      "Epoch 99/150\n",
      "76539/76539 [==============================] - 2s 20us/step - loss: 2.1192 - categorical_accuracy: 0.4076\n",
      "Epoch 100/150\n",
      "76539/76539 [==============================] - 2s 20us/step - loss: 2.1067 - categorical_accuracy: 0.4068\n",
      "Epoch 101/150\n",
      "76539/76539 [==============================] - 2s 20us/step - loss: 2.1111 - categorical_accuracy: 0.4080\n",
      "Epoch 102/150\n",
      "76539/76539 [==============================] - 2s 20us/step - loss: 2.1106 - categorical_accuracy: 0.4086\n",
      "Epoch 103/150\n",
      "76539/76539 [==============================] - 2s 20us/step - loss: 2.1080 - categorical_accuracy: 0.4079\n",
      "Epoch 104/150\n",
      "76539/76539 [==============================] - 2s 20us/step - loss: 2.1119 - categorical_accuracy: 0.4066\n",
      "Epoch 105/150\n",
      "76539/76539 [==============================] - ETA: 0s - loss: 2.1052 - categorical_accuracy: 0.41 - 2s 21us/step - loss: 2.1039 - categorical_accuracy: 0.4106\n",
      "Epoch 106/150\n",
      "76539/76539 [==============================] - 2s 20us/step - loss: 2.0973 - categorical_accuracy: 0.4105\n",
      "Epoch 107/150\n",
      "76539/76539 [==============================] - 2s 20us/step - loss: 2.0961 - categorical_accuracy: 0.4114\n",
      "Epoch 108/150\n",
      "76539/76539 [==============================] - 2s 20us/step - loss: 2.0936 - categorical_accuracy: 0.4128\n",
      "Epoch 109/150\n",
      "76539/76539 [==============================] - 2s 20us/step - loss: 2.0968 - categorical_accuracy: 0.4097\n",
      "Epoch 110/150\n",
      "76539/76539 [==============================] - 2s 20us/step - loss: 2.0908 - categorical_accuracy: 0.4107\n",
      "Epoch 111/150\n",
      "76539/76539 [==============================] - 2s 20us/step - loss: 2.0834 - categorical_accuracy: 0.4139\n",
      "Epoch 112/150\n",
      "76539/76539 [==============================] - 2s 20us/step - loss: 2.0824 - categorical_accuracy: 0.4154\n",
      "Epoch 113/150\n",
      "76539/76539 [==============================] - 2s 20us/step - loss: 2.0821 - categorical_accuracy: 0.4137\n",
      "Epoch 114/150\n",
      "76539/76539 [==============================] - 2s 20us/step - loss: 2.0786 - categorical_accuracy: 0.4154\n",
      "Epoch 115/150\n",
      "76539/76539 [==============================] - 2s 20us/step - loss: 2.0731 - categorical_accuracy: 0.4160\n",
      "Epoch 116/150\n",
      "76539/76539 [==============================] - 2s 20us/step - loss: 2.0726 - categorical_accuracy: 0.4163\n",
      "Epoch 117/150\n",
      "76539/76539 [==============================] - 2s 20us/step - loss: 2.0786 - categorical_accuracy: 0.4186\n",
      "Epoch 118/150\n",
      "76539/76539 [==============================] - 2s 20us/step - loss: 2.0708 - categorical_accuracy: 0.4179\n",
      "Epoch 119/150\n",
      "76539/76539 [==============================] - 2s 20us/step - loss: 2.0644 - categorical_accuracy: 0.4183\n",
      "Epoch 120/150\n",
      "76539/76539 [==============================] - 2s 20us/step - loss: 2.0672 - categorical_accuracy: 0.4204\n",
      "Epoch 121/150\n",
      "76539/76539 [==============================] - 2s 20us/step - loss: 2.0637 - categorical_accuracy: 0.4228\n",
      "Epoch 122/150\n",
      "76539/76539 [==============================] - 2s 20us/step - loss: 2.0597 - categorical_accuracy: 0.4229\n",
      "Epoch 123/150\n",
      "76539/76539 [==============================] - 2s 20us/step - loss: 2.0579 - categorical_accuracy: 0.4216\n",
      "Epoch 124/150\n",
      "76539/76539 [==============================] - 2s 20us/step - loss: 2.0603 - categorical_accuracy: 0.4188\n",
      "Epoch 125/150\n",
      "76539/76539 [==============================] - 2s 20us/step - loss: 2.0568 - categorical_accuracy: 0.4219\n",
      "Epoch 126/150\n",
      "76539/76539 [==============================] - 2s 20us/step - loss: 2.0527 - categorical_accuracy: 0.4233\n",
      "Epoch 127/150\n",
      "76539/76539 [==============================] - 2s 20us/step - loss: 2.0520 - categorical_accuracy: 0.4241\n",
      "Epoch 128/150\n",
      "76539/76539 [==============================] - 2s 20us/step - loss: 2.0498 - categorical_accuracy: 0.4234\n",
      "Epoch 129/150\n",
      "76539/76539 [==============================] - 2s 20us/step - loss: 2.0458 - categorical_accuracy: 0.4237\n",
      "Epoch 130/150\n",
      "76539/76539 [==============================] - 2s 20us/step - loss: 2.0486 - categorical_accuracy: 0.4242\n",
      "Epoch 131/150\n",
      "76539/76539 [==============================] - 2s 20us/step - loss: 2.0436 - categorical_accuracy: 0.4254\n",
      "Epoch 132/150\n",
      "76539/76539 [==============================] - 2s 20us/step - loss: 2.0470 - categorical_accuracy: 0.4253\n",
      "Epoch 133/150\n",
      "76539/76539 [==============================] - 2s 20us/step - loss: 2.0355 - categorical_accuracy: 0.4278\n",
      "Epoch 134/150\n",
      "76539/76539 [==============================] - 2s 20us/step - loss: 2.0341 - categorical_accuracy: 0.4284\n",
      "Epoch 135/150\n",
      "76539/76539 [==============================] - 2s 20us/step - loss: 2.0402 - categorical_accuracy: 0.4287\n",
      "Epoch 136/150\n",
      "76539/76539 [==============================] - 2s 20us/step - loss: 2.0313 - categorical_accuracy: 0.4289\n",
      "Epoch 137/150\n"
     ]
    },
    {
     "name": "stdout",
     "output_type": "stream",
     "text": [
      "76539/76539 [==============================] - 1s 19us/step - loss: 2.0319 - categorical_accuracy: 0.4280\n",
      "Epoch 138/150\n",
      "76539/76539 [==============================] - 1s 19us/step - loss: 2.0248 - categorical_accuracy: 0.4326\n",
      "Epoch 139/150\n",
      "76539/76539 [==============================] - 1s 19us/step - loss: 2.0309 - categorical_accuracy: 0.4272\n",
      "Epoch 140/150\n",
      "76539/76539 [==============================] - 1s 20us/step - loss: 2.0237 - categorical_accuracy: 0.4319\n",
      "Epoch 141/150\n",
      "76539/76539 [==============================] - 1s 19us/step - loss: 2.0239 - categorical_accuracy: 0.4299\n",
      "Epoch 142/150\n",
      "76539/76539 [==============================] - 1s 20us/step - loss: 2.0235 - categorical_accuracy: 0.4311\n",
      "Epoch 143/150\n",
      "76539/76539 [==============================] - 1s 19us/step - loss: 2.0196 - categorical_accuracy: 0.4309\n",
      "Epoch 144/150\n",
      "76539/76539 [==============================] - 1s 19us/step - loss: 2.0157 - categorical_accuracy: 0.4328\n",
      "Epoch 145/150\n",
      "76539/76539 [==============================] - 2s 20us/step - loss: 2.0116 - categorical_accuracy: 0.4333\n",
      "Epoch 146/150\n",
      "76539/76539 [==============================] - 1s 20us/step - loss: 2.0142 - categorical_accuracy: 0.4332\n",
      "Epoch 147/150\n",
      "76539/76539 [==============================] - 1s 19us/step - loss: 2.0105 - categorical_accuracy: 0.4355\n",
      "Epoch 148/150\n",
      "76539/76539 [==============================] - 2s 20us/step - loss: 2.0076 - categorical_accuracy: 0.4357\n",
      "Epoch 149/150\n",
      "76539/76539 [==============================] - 2s 20us/step - loss: 2.0065 - categorical_accuracy: 0.4354\n",
      "Epoch 150/150\n",
      "76539/76539 [==============================] - 1s 20us/step - loss: 2.0077 - categorical_accuracy: 0.4324\n"
     ]
    },
    {
     "data": {
      "text/plain": [
       "<keras.callbacks.History at 0x15048a42ef0>"
      ]
     },
     "execution_count": 617,
     "metadata": {},
     "output_type": "execute_result"
    }
   ],
   "source": [
    "model.fit(x= x_train , y= categorical_labels ,epochs=150, batch_size=250 )"
   ]
  },
  {
   "cell_type": "code",
   "execution_count": 448,
   "metadata": {},
   "outputs": [],
   "source": [
    "from keras.metrics import categorical_accuracy"
   ]
  },
  {
   "cell_type": "code",
   "execution_count": 589,
   "metadata": {},
   "outputs": [
    {
     "data": {
      "text/plain": [
       "array([[8.3392197e-01, 5.0435387e-06, 6.5478228e-04, ..., 2.7639003e-04,\n",
       "        9.1147103e-06, 1.5791717e-01],\n",
       "       [3.4866498e-03, 4.1169515e-03, 3.6429219e-02, ..., 2.4100079e-03,\n",
       "        1.5736662e-04, 2.3424821e-01],\n",
       "       [2.6370911e-03, 1.1610767e-04, 9.1753388e-03, ..., 9.2519238e-04,\n",
       "        1.8236632e-04, 8.0587998e-02],\n",
       "       ...,\n",
       "       [4.2654458e-05, 2.1443334e-06, 2.9834162e-04, ..., 3.7378818e-04,\n",
       "        4.7024998e-05, 8.6641558e-02],\n",
       "       [4.7442256e-03, 2.4784973e-04, 9.5867440e-03, ..., 6.0028259e-02,\n",
       "        2.1919690e-02, 2.3304956e-02],\n",
       "       [1.7659612e-03, 4.4406613e-04, 4.6360833e-03, ..., 2.8416438e-03,\n",
       "        1.3850202e-04, 9.1133103e-02]], dtype=float32)"
      ]
     },
     "execution_count": 589,
     "metadata": {},
     "output_type": "execute_result"
    }
   ],
   "source": [
    "model.predict(x_train)"
   ]
  },
  {
   "cell_type": "code",
   "execution_count": 618,
   "metadata": {},
   "outputs": [],
   "source": [
    "categorical_test = to_categorical(y_test)"
   ]
  },
  {
   "cell_type": "code",
   "execution_count": 619,
   "metadata": {},
   "outputs": [
    {
     "name": "stdout",
     "output_type": "stream",
     "text": [
      "19135/19135 [==============================] - 1s 68us/step\n"
     ]
    }
   ],
   "source": [
    "loss_and_metrics = model.evaluate(x_test, categorical_test)"
   ]
  },
  {
   "cell_type": "code",
   "execution_count": 620,
   "metadata": {},
   "outputs": [
    {
     "name": "stdout",
     "output_type": "stream",
     "text": [
      "[12.493641360222842, 0.17052521556421144]\n"
     ]
    }
   ],
   "source": [
    "print(loss_and_metrics)"
   ]
  },
  {
   "cell_type": "markdown",
   "metadata": {},
   "source": [
    "Very low log_loss and a huge overfit , this is after a lot of changes to the functions and layers."
   ]
  },
  {
   "cell_type": "markdown",
   "metadata": {},
   "source": [
    "Random forest"
   ]
  },
  {
   "cell_type": "code",
   "execution_count": 453,
   "metadata": {},
   "outputs": [],
   "source": [
    "from sklearn.ensemble import RandomForestClassifier"
   ]
  },
  {
   "cell_type": "code",
   "execution_count": 576,
   "metadata": {},
   "outputs": [],
   "source": [
    "rfc = RandomForestClassifier(n_estimators=30)"
   ]
  },
  {
   "cell_type": "code",
   "execution_count": 577,
   "metadata": {},
   "outputs": [],
   "source": [
    "x_train_rfc , x_test_rfc , y_train_rfc , y_test_rfc = train_test_split(X, y , test_size = 0.25)"
   ]
  },
  {
   "cell_type": "code",
   "execution_count": 578,
   "metadata": {},
   "outputs": [
    {
     "data": {
      "text/plain": [
       "RandomForestClassifier(bootstrap=True, class_weight=None, criterion='gini',\n",
       "            max_depth=None, max_features='auto', max_leaf_nodes=None,\n",
       "            min_impurity_decrease=0.0, min_impurity_split=None,\n",
       "            min_samples_leaf=1, min_samples_split=2,\n",
       "            min_weight_fraction_leaf=0.0, n_estimators=30, n_jobs=1,\n",
       "            oob_score=False, random_state=None, verbose=0,\n",
       "            warm_start=False)"
      ]
     },
     "execution_count": 578,
     "metadata": {},
     "output_type": "execute_result"
    }
   ],
   "source": [
    "rfc.fit(x_train_rfc, y_train_rfc)"
   ]
  },
  {
   "cell_type": "code",
   "execution_count": 579,
   "metadata": {},
   "outputs": [
    {
     "name": "stderr",
     "output_type": "stream",
     "text": [
      "C:\\Users\\ori\\Anaconda3\\lib\\site-packages\\ipykernel_launcher.py:1: SettingWithCopyWarning: \n",
      "A value is trying to be set on a copy of a slice from a DataFrame.\n",
      "Try using .loc[row_indexer,col_indexer] = value instead\n",
      "\n",
      "See the caveats in the documentation: http://pandas.pydata.org/pandas-docs/stable/indexing.html#indexing-view-versus-copy\n",
      "  \"\"\"Entry point for launching an IPython kernel.\n"
     ]
    }
   ],
   "source": [
    "x_train_rfc['pred'] = rfc.predict(x_train_rfc)"
   ]
  },
  {
   "cell_type": "code",
   "execution_count": 580,
   "metadata": {},
   "outputs": [],
   "source": [
    "from sklearn.metrics import confusion_matrix , log_loss"
   ]
  },
  {
   "cell_type": "code",
   "execution_count": 581,
   "metadata": {},
   "outputs": [],
   "source": [
    "cm = confusion_matrix(y_true=y_train_rfc, y_pred= x_train_rfc.pred)"
   ]
  },
  {
   "cell_type": "code",
   "execution_count": 582,
   "metadata": {},
   "outputs": [
    {
     "name": "stdout",
     "output_type": "stream",
     "text": [
      "[[2625    0    0 ...    0    0    1]\n",
      " [   0   72  171 ...    0    0    0]\n",
      " [   1    1 3334 ...    0    0    3]\n",
      " ...\n",
      " [   0    0    0 ...  664    0    0]\n",
      " [   0    0    0 ...    0  901    0]\n",
      " [ 535    0   46 ...    0    0 5122]]\n"
     ]
    }
   ],
   "source": [
    "print(cm)"
   ]
  },
  {
   "cell_type": "code",
   "execution_count": 583,
   "metadata": {},
   "outputs": [
    {
     "data": {
      "text/plain": [
       "0.6226848948534638"
      ]
     },
     "execution_count": 583,
     "metadata": {},
     "output_type": "execute_result"
    }
   ],
   "source": [
    "rfc.score(X=x_test_rfc, y=y_test_rfc)"
   ]
  },
  {
   "cell_type": "code",
   "execution_count": 584,
   "metadata": {},
   "outputs": [
    {
     "data": {
      "text/plain": [
       "array([[0.        , 0.        , 0.        , ..., 0.        , 0.        ,\n",
       "        0.0080983 ],\n",
       "       [0.        , 0.        , 0.        , ..., 0.        , 0.03333333,\n",
       "        0.        ],\n",
       "       [0.        , 0.        , 0.        , ..., 0.        , 0.        ,\n",
       "        1.        ],\n",
       "       ...,\n",
       "       [0.        , 0.04048195, 0.90752218, ..., 0.        , 0.        ,\n",
       "        0.        ],\n",
       "       [0.        , 0.16860925, 0.70951675, ..., 0.        , 0.        ,\n",
       "        0.0644861 ],\n",
       "       [0.        , 0.        , 0.        , ..., 0.        , 0.        ,\n",
       "        0.        ]])"
      ]
     },
     "execution_count": 584,
     "metadata": {},
     "output_type": "execute_result"
    }
   ],
   "source": [
    "rfc.predict_proba(x_test_rfc)"
   ]
  },
  {
   "cell_type": "code",
   "execution_count": 585,
   "metadata": {},
   "outputs": [
    {
     "data": {
      "text/plain": [
       "2.747025083005387"
      ]
     },
     "execution_count": 585,
     "metadata": {},
     "output_type": "execute_result"
    }
   ],
   "source": [
    "log_loss(y_true=y_test_rfc, y_pred=rfc.predict_proba(x_test_rfc))"
   ]
  },
  {
   "cell_type": "code",
   "execution_count": null,
   "metadata": {},
   "outputs": [],
   "source": []
  }
 ],
 "metadata": {
  "kernelspec": {
   "display_name": "Python 3",
   "language": "python",
   "name": "python3"
  }
 },
 "nbformat": 4,
 "nbformat_minor": 2
}
